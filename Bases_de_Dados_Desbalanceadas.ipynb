{
  "cells": [
    {
      "cell_type": "markdown",
      "metadata": {
        "id": "view-in-github",
        "colab_type": "text"
      },
      "source": [
        "<a href=\"https://colab.research.google.com/github/Bruno-M-N/TopEspInstrII---Bases-de-Dados-Desbalanceadas/blob/master/Bases_de_Dados_Desbalanceadas.ipynb\" target=\"_parent\"><img src=\"https://colab.research.google.com/assets/colab-badge.svg\" alt=\"Open In Colab\"/></a>"
      ]
    },
    {
      "cell_type": "markdown",
      "metadata": {
        "id": "i0akLE0SPr1F"
      },
      "source": [
        "# Tópicos Especiais em Instrumentação I: Inteligência Computacional II"
      ]
    },
    {
      "cell_type": "markdown",
      "metadata": {
        "id": "itzjxXMuPUWE"
      },
      "source": [
        "\n",
        "**Universidade Federal do Rio Grande do Sul**\n",
        ">ENG4019: Tópicos Especiais em Instrumentação I: Inteligência Computacional I       \n",
        "\n",
        ">Título: Bases de Dados Desbalanceadas\n",
        "\n",
        ">Resumo: \n",
        "\n",
        ">@author:\n",
        "*   Bruno Moreira Nabinger                      \n",
        "  (bruno.nabinger@gmail.com)"
      ]
    },
    {
      "cell_type": "code",
      "execution_count": null,
      "metadata": {
        "colab": {
          "background_save": true
        },
        "id": "MAjv1JvSHJCP",
        "outputId": "a21e004d-2334-41cb-a96f-dffba253b7d1"
      },
      "outputs": [
        {
          "name": "stdout",
          "output_type": "stream",
          "text": [
            "Mounted at /content/drive\n"
          ]
        }
      ],
      "source": [
        "from google.colab import drive\n",
        "drive.mount('/content/drive')"
      ]
    },
    {
      "cell_type": "code",
      "execution_count": null,
      "metadata": {
        "colab": {
          "base_uri": "https://localhost:8080/"
        },
        "id": "GucoKrfBOvIT",
        "outputId": "30dd1494-5554-4044-c54d-d3ce34159ae2"
      },
      "outputs": [
        {
          "name": "stdout",
          "output_type": "stream",
          "text": [
            "MyDrive\n"
          ]
        }
      ],
      "source": [
        "!ls /content/drive"
      ]
    },
    {
      "cell_type": "markdown",
      "metadata": {
        "id": "d-HSRhaVOzPL"
      },
      "source": [
        "# Pip Install"
      ]
    },
    {
      "cell_type": "markdown",
      "metadata": {
        "id": "8VhLBnq33uqY"
      },
      "source": [
        "# Path"
      ]
    },
    {
      "cell_type": "code",
      "execution_count": null,
      "metadata": {
        "id": "roDRl9smK2RI"
      },
      "outputs": [],
      "source": [
        "# Diretório Principal\n",
        "path = '/content/drive/MyDrive/Colab Notebooks/UFRGS/ENG4026 - Tópicos Especiais em Instrumentação II'\n",
        "\n",
        "# Parâmetros para exportação de tabelas LaTeX\n",
        "pathTab = path + '/tab/'"
      ]
    },
    {
      "cell_type": "markdown",
      "metadata": {
        "id": "SsTb2sjuHUaz"
      },
      "source": [
        "# Imports "
      ]
    },
    {
      "cell_type": "code",
      "execution_count": null,
      "metadata": {
        "id": "7Jsh5SD0HTkK"
      },
      "outputs": [],
      "source": [
        "import numpy as np\n",
        "import matplotlib\n",
        "import matplotlib.pyplot as plt\n",
        "from sklearn.metrics import confusion_matrix, classification_report\n",
        "\n"
      ]
    },
    {
      "cell_type": "markdown",
      "metadata": {
        "id": "2ayYt0fhKskU"
      },
      "source": [
        "# Definição das funções que exibem a Matriz de Confusão e o Classification Report"
      ]
    },
    {
      "cell_type": "code",
      "execution_count": null,
      "metadata": {
        "id": "Ot2McA80-ghi"
      },
      "outputs": [],
      "source": [
        "\"\"\"\n",
        "Parse and convert scikit-learn classification_report to latex \n",
        "(Python 3/Booktabs) \n",
        "cfreportlatex.py (modified)\n",
        "Author: Francisco Rodrigues (modified)\n",
        "https://gist.github.com/FRodrigues21/bec41ee4305c027bcdf9987313182e9b\n",
        "\n",
        "Code to parse sklearn classification_report\n",
        "Original: https://gist.github.com/julienr/6b9b9a03bd8224db7b4f\n",
        "Modified to work with Python 3 and classification report averages\n",
        "\"\"\"\n",
        "\n",
        "import sys\n",
        "import collections\n",
        "\n",
        "def parse_classification_report(clfreport):\n",
        "    \"\"\"\n",
        "    Parse a sklearn classification report into a dict keyed by class name\n",
        "    and containing a tuple (precision, recall, fscore, support) for each class\n",
        "    \"\"\"\n",
        "    lines = clfreport.split('\\n')\n",
        "    # Remove empty lines\n",
        "    lines = list(filter(lambda l: not len(l.strip()) == 0, lines))\n",
        "\n",
        "    # Starts with a header, then score for each class and finally an average\n",
        "    header = lines[0]\n",
        "    cls_lines = lines[1:-1]\n",
        "    avg_line = lines[-1]\n",
        "\n",
        "    assert header.split() == ['precision', 'recall', 'f1-score', 'support']\n",
        "    assert avg_line.split()[1] == 'avg'\n",
        "\n",
        "    # We cannot simply use split because class names can have spaces. So instead\n",
        "    # figure the width of the class field by looking at the indentation of the\n",
        "    # precision header\n",
        "    cls_field_width = len(header) - len(header.lstrip())\n",
        "    # Now, collect all the class names and score in a dict\n",
        "    def parse_line(l):\n",
        "        \"\"\"Parse a line of classification_report\"\"\"\n",
        "        cls_name = l[:cls_field_width].strip()\n",
        "        if (len(l[cls_field_width:].split()) == 4):\n",
        "          precision, recall, fscore, support = l[cls_field_width:].split()\n",
        "          precision = float(precision)\n",
        "          recall = float(recall)\n",
        "          fscore = float(fscore)\n",
        "          support = int(support)\n",
        "        else:\n",
        "          fscore, support = l[cls_field_width:].split()\n",
        "          precision = str(\"\")\n",
        "          recall = str(\"\")\n",
        "          fscore = float(fscore)\n",
        "          support = int(support)\n",
        "        return (cls_name, precision, recall, fscore, support)\n",
        "\n",
        "    data = collections.OrderedDict()\n",
        "    for l in cls_lines:\n",
        "        ret = parse_line(l)\n",
        "        cls_name = ret[0]\n",
        "        scores = ret[1:]\n",
        "        data[cls_name] = scores\n",
        "\n",
        "    # average\n",
        "    data['avg'] = parse_line(avg_line)[1:]\n",
        "\n",
        "    return data\n",
        "\n",
        "def report_to_latex_table(data, model):\n",
        "    classificationReportFileName = \"classification-report-\" + model #.tex\n",
        "    title = f\"Classification report para o {model}\"\n",
        "    caption = title + r\". \\\\ \\textbf{Fonte -} Autor.\"\n",
        "    label = \"tab: \" + classificationReportFileName  #.tex\n",
        "    avg_split = False\n",
        "    out =  f\"%{classificationReportFileName}\\n\"\n",
        "    out += (r\"% A Tabela \\ref{\" f\"{label}\" r\"} exibe o \\textit{\" f\"{title}\"\n",
        "                 r\"}\" + \"\\n\")\n",
        "    out += (r\"% \\input{Tabelas/\" f\"{classificationReportFileName}\" r\"}\" + \"\\n\")\n",
        "    out += (r\"% Please add the following required packages to your\"\n",
        "                 r\"document preamble:\" + \"\\n\")\n",
        "    out += r\"% \\usepackage{booktabs}\" + \"\\n\"\n",
        "    out += \"\\\\begin{table}[H]\\n\"\n",
        "    out += \"    \" + \"\\\\centering\\n\"\n",
        "    out += \"    \" + r\"\\begin{tabular}{@{}ccccc@{}}\" + \"\\n\"\n",
        "    out += \"    \" + \"\\\\toprule\\n\"\n",
        "    out += (\"    \" + r\" & \\textbf{Precision} & \\textbf{Recall} &\"\n",
        "            + r\"\\textbf{F-score} & \\textbf{Support} \\\\ \\midrule \" + \"\\n\")\n",
        "    for cls, scores in data.items():\n",
        "        if 'micro' in cls:\n",
        "            out += \"\\\\midrule\\n\"\n",
        "        out += \"    \" + cls + \" & \" + \" & \".join([str(s) for s in scores])\n",
        "        out += r\" \\\\ \" + \"\\n\"\n",
        "    out += \"    \" + \"\\\\end{tabular}\\n\"\n",
        "    out += (\"    \" + r\"\\caption{\" + caption + r\"}\" + \"\\n\")\n",
        "    out += (\"    \" + r\"\\label{\" + label + r\"}\" + \"\\n\")\n",
        "    out += \"\\\\end{table}\"\n",
        "    return out"
      ]
    },
    {
      "cell_type": "code",
      "execution_count": null,
      "metadata": {
        "id": "freZT6AsKzP9"
      },
      "outputs": [],
      "source": [
        "def printConfusionMatrix(y_true, y_pred, model):\n",
        "  # print(y_test)\n",
        "  # print(y_pred)\n",
        "  # extract the predicted class labels\n",
        "  y_pred_class = np.where(y_pred > 0.5, 1, 0)\n",
        "  confmat = confusion_matrix(y_true = y_true, y_pred = y_pred_class)\n",
        "  # print(confmat)\n",
        "  print(f\"Matriz de confusão para o {model}\")\n",
        "  print(f\"Verdadeiro positivo:  {confmat[0,0]}\" \n",
        "        f\" Falso negativo:      {confmat[0,1]}\\n\"\n",
        "        f\"Falso positivo:       {confmat[1,0]}\" \n",
        "        f\" Verdadeiro negativo: {confmat[1,1]}\")\n",
        "  \n",
        "  confusionMatrixFileName = \"matriz-confusao-\" + model #.tex\n",
        "  title = f\"Matriz de confusão para o {model}\"\n",
        "  caption = title + r\". \\\\ \\textbf{Fonte -} Autor.\"\n",
        "  label = \"tab: \" + confusionMatrixFileName  #.tex\n",
        "  header = (r'& \\textbf{} & \\multicolumn{2}{c}{\\textbf{Rótulo Verdadeiro}}'\n",
        "            + r'\\\\ \\midrule')\n",
        "  \n",
        "  tableTEX =  f\"%{confusionMatrixFileName}\\n\"\n",
        "  tableTEX += (r\"% A Tabela \\ref{\" f\"{label}\" r\"} exibe a \" f\"{title}\\n\")\n",
        "  tableTEX += (r\"% \\input{Tabelas/\" f\"{confusionMatrixFileName}\" r\"}\" + \"\\n\")\n",
        "  tableTEX += (r\"% Please add the following required packages to your\"\n",
        "               r\"document preamble:\" + \"\\n\")\n",
        "  tableTEX += r\"% \\usepackage{booktabs}\" + \"\\n\"\n",
        "  tableTEX += r\"% \\usepackage{multirow}\" + \"\\n\"\n",
        "  tableTEX += r\"\\begin{table}[H]\" + \"\\n\"\n",
        "  tableTEX += (\"    \" + r\"\\centering\" + \"\\n\")\n",
        "  tableTEX += (\"    \" + r\"\\begin{tabular}{@{}cccc@{}}\" + \"\\n\")\n",
        "  tableTEX += (\"    \" + r\"\\toprule\" + \"\\n\")\n",
        "  tableTEX += (\"    \" + header + \"\\n\")\n",
        "  tableTEX += (\"    \" + r\" &  & \\begin{tabular}[c]{@{}c@{}}Olho\\\\ Fechado\"\n",
        "               + r\"\\end{tabular} & \\begin{tabular}[c]{@{}c@{}}Olho\\\\  Aberto\"\n",
        "               + r\"\\end{tabular} \\\\\" + \"\\n\")\n",
        "  tableTEX += (\"    \" + r\"\\multirow{2}{*}{\\textbf{\\begin{tabular}[c]{@{}c@{}}\"\n",
        "               + r\"Rótulo\\\\  Predito\\end{tabular}}} & \"\n",
        "               + r\"\\begin{tabular}[c]{@{}c@{}}Olho\\\\ Fechado\\end{tabular} & \"\n",
        "               + f\"{confmat[0, 0]} & {confmat[0, 1]}\" + r\" \\\\ \" + \"\\n\")\n",
        "  tableTEX += (\"    \" + r\"& \\begin{tabular}[c]{@{}c@{}}Olho\\\\  \"\n",
        "               + r\"Aberto\\end{tabular} & \"\n",
        "               + f\"{confmat[1, 0]} & {confmat[1, 1]}\" + r\" \\\\ \\bottomrule\"\n",
        "                + \"\\n\")\n",
        "  tableTEX += (\"    \" + r\"\\end{tabular}\" + \"\\n\")\n",
        "  tableTEX += (\"    \" + r\"\\caption{\" + caption + r\"}\" + \"\\n\")\n",
        "  tableTEX += (\"    \" + r\"\\label{\" + label + r\"}\" + \"\\n\")\n",
        "  tableTEX += \"\\end{table}\" + \"\\n\"\n",
        "\n",
        "  arquivo = open(pathTab + confusionMatrixFileName + '.tex','w')\n",
        "  arquivo.write(tableTEX)\n",
        "  arquivo.close()\n",
        "\n",
        "def printClassificationReport(y_true, y_pred, model):\n",
        "  print(f\"Classification report para o {model}\")\n",
        "  # extract the predicted class labels\n",
        "  y_pred_class = np.where(y_pred > 0.5, 1, 0)\n",
        "  print(classification_report(y_true, y_pred_class))\n",
        "  \n",
        "  data = parse_classification_report(classification_report(y_true,\n",
        "                                                           y_pred_class))\n",
        "  # print(report_to_latex_table(data, model))\n",
        "  \n",
        "  classificationReportFileName = \"classification-report-\" + model #.tex\n",
        "  arquivo = open(pathTab + classificationReportFileName + '.tex','w')\n",
        "  arquivo.write(report_to_latex_table(data, model))\n",
        "  arquivo.close()"
      ]
    },
    {
      "cell_type": "markdown",
      "metadata": {
        "id": "A1yxLKqPH6Wc"
      },
      "source": [
        "# Questão II\n",
        "\n",
        "Tarefa no Laboratório: digitar, executar e avaliar o seguinte código para construir um pipeline de um modelo inteligente qualquer para classificar os dados desbalanceados do\n",
        "conjunto de dados do item anterior. Utilizar APENAS os dados disponibilizados na Pasta DOCUMENTOS da nossa comunidade no MCOnf©. Baixar o arquivo nomeado de “wbdc.data”. Abrir o ambiente de programação Python, digitar o correspondente código\n",
        "e analisar o mesmo."
      ]
    },
    {
      "cell_type": "markdown",
      "metadata": {
        "id": "NWVV8ROWymeQ"
      },
      "source": [
        "\n",
        "\n",
        "|    N    |    %    |\n",
        "| ------- | ------- |\n",
        "|   569   |   100   |\n",
        "|   357   |  62,74  |"
      ]
    },
    {
      "cell_type": "code",
      "execution_count": null,
      "metadata": {
        "colab": {
          "base_uri": "https://localhost:8080/",
          "height": 299
        },
        "id": "4SpmjUK0X7Zw",
        "outputId": "53a60474-9f87-418a-d4d0-9ed983094e2d"
      },
      "outputs": [
        {
          "data": {
            "text/html": [
              "\n",
              "  <div id=\"df-9553a8f5-a171-4ff2-9b31-39b8e5683c6b\">\n",
              "    <div class=\"colab-df-container\">\n",
              "      <div>\n",
              "<style scoped>\n",
              "    .dataframe tbody tr th:only-of-type {\n",
              "        vertical-align: middle;\n",
              "    }\n",
              "\n",
              "    .dataframe tbody tr th {\n",
              "        vertical-align: top;\n",
              "    }\n",
              "\n",
              "    .dataframe thead th {\n",
              "        text-align: right;\n",
              "    }\n",
              "</style>\n",
              "<table border=\"1\" class=\"dataframe\">\n",
              "  <thead>\n",
              "    <tr style=\"text-align: right;\">\n",
              "      <th></th>\n",
              "      <th>0</th>\n",
              "      <th>1</th>\n",
              "      <th>2</th>\n",
              "      <th>3</th>\n",
              "      <th>4</th>\n",
              "      <th>5</th>\n",
              "      <th>6</th>\n",
              "      <th>7</th>\n",
              "      <th>8</th>\n",
              "      <th>9</th>\n",
              "      <th>...</th>\n",
              "      <th>22</th>\n",
              "      <th>23</th>\n",
              "      <th>24</th>\n",
              "      <th>25</th>\n",
              "      <th>26</th>\n",
              "      <th>27</th>\n",
              "      <th>28</th>\n",
              "      <th>29</th>\n",
              "      <th>30</th>\n",
              "      <th>31</th>\n",
              "    </tr>\n",
              "  </thead>\n",
              "  <tbody>\n",
              "    <tr>\n",
              "      <th>0</th>\n",
              "      <td>842302</td>\n",
              "      <td>M</td>\n",
              "      <td>17.99</td>\n",
              "      <td>10.38</td>\n",
              "      <td>122.80</td>\n",
              "      <td>1001.0</td>\n",
              "      <td>0.11840</td>\n",
              "      <td>0.27760</td>\n",
              "      <td>0.3001</td>\n",
              "      <td>0.14710</td>\n",
              "      <td>...</td>\n",
              "      <td>25.38</td>\n",
              "      <td>17.33</td>\n",
              "      <td>184.60</td>\n",
              "      <td>2019.0</td>\n",
              "      <td>0.1622</td>\n",
              "      <td>0.6656</td>\n",
              "      <td>0.7119</td>\n",
              "      <td>0.2654</td>\n",
              "      <td>0.4601</td>\n",
              "      <td>0.11890</td>\n",
              "    </tr>\n",
              "    <tr>\n",
              "      <th>1</th>\n",
              "      <td>842517</td>\n",
              "      <td>M</td>\n",
              "      <td>20.57</td>\n",
              "      <td>17.77</td>\n",
              "      <td>132.90</td>\n",
              "      <td>1326.0</td>\n",
              "      <td>0.08474</td>\n",
              "      <td>0.07864</td>\n",
              "      <td>0.0869</td>\n",
              "      <td>0.07017</td>\n",
              "      <td>...</td>\n",
              "      <td>24.99</td>\n",
              "      <td>23.41</td>\n",
              "      <td>158.80</td>\n",
              "      <td>1956.0</td>\n",
              "      <td>0.1238</td>\n",
              "      <td>0.1866</td>\n",
              "      <td>0.2416</td>\n",
              "      <td>0.1860</td>\n",
              "      <td>0.2750</td>\n",
              "      <td>0.08902</td>\n",
              "    </tr>\n",
              "    <tr>\n",
              "      <th>2</th>\n",
              "      <td>84300903</td>\n",
              "      <td>M</td>\n",
              "      <td>19.69</td>\n",
              "      <td>21.25</td>\n",
              "      <td>130.00</td>\n",
              "      <td>1203.0</td>\n",
              "      <td>0.10960</td>\n",
              "      <td>0.15990</td>\n",
              "      <td>0.1974</td>\n",
              "      <td>0.12790</td>\n",
              "      <td>...</td>\n",
              "      <td>23.57</td>\n",
              "      <td>25.53</td>\n",
              "      <td>152.50</td>\n",
              "      <td>1709.0</td>\n",
              "      <td>0.1444</td>\n",
              "      <td>0.4245</td>\n",
              "      <td>0.4504</td>\n",
              "      <td>0.2430</td>\n",
              "      <td>0.3613</td>\n",
              "      <td>0.08758</td>\n",
              "    </tr>\n",
              "    <tr>\n",
              "      <th>3</th>\n",
              "      <td>84348301</td>\n",
              "      <td>M</td>\n",
              "      <td>11.42</td>\n",
              "      <td>20.38</td>\n",
              "      <td>77.58</td>\n",
              "      <td>386.1</td>\n",
              "      <td>0.14250</td>\n",
              "      <td>0.28390</td>\n",
              "      <td>0.2414</td>\n",
              "      <td>0.10520</td>\n",
              "      <td>...</td>\n",
              "      <td>14.91</td>\n",
              "      <td>26.50</td>\n",
              "      <td>98.87</td>\n",
              "      <td>567.7</td>\n",
              "      <td>0.2098</td>\n",
              "      <td>0.8663</td>\n",
              "      <td>0.6869</td>\n",
              "      <td>0.2575</td>\n",
              "      <td>0.6638</td>\n",
              "      <td>0.17300</td>\n",
              "    </tr>\n",
              "    <tr>\n",
              "      <th>4</th>\n",
              "      <td>84358402</td>\n",
              "      <td>M</td>\n",
              "      <td>20.29</td>\n",
              "      <td>14.34</td>\n",
              "      <td>135.10</td>\n",
              "      <td>1297.0</td>\n",
              "      <td>0.10030</td>\n",
              "      <td>0.13280</td>\n",
              "      <td>0.1980</td>\n",
              "      <td>0.10430</td>\n",
              "      <td>...</td>\n",
              "      <td>22.54</td>\n",
              "      <td>16.67</td>\n",
              "      <td>152.20</td>\n",
              "      <td>1575.0</td>\n",
              "      <td>0.1374</td>\n",
              "      <td>0.2050</td>\n",
              "      <td>0.4000</td>\n",
              "      <td>0.1625</td>\n",
              "      <td>0.2364</td>\n",
              "      <td>0.07678</td>\n",
              "    </tr>\n",
              "  </tbody>\n",
              "</table>\n",
              "<p>5 rows × 32 columns</p>\n",
              "</div>\n",
              "      <button class=\"colab-df-convert\" onclick=\"convertToInteractive('df-9553a8f5-a171-4ff2-9b31-39b8e5683c6b')\"\n",
              "              title=\"Convert this dataframe to an interactive table.\"\n",
              "              style=\"display:none;\">\n",
              "        \n",
              "  <svg xmlns=\"http://www.w3.org/2000/svg\" height=\"24px\"viewBox=\"0 0 24 24\"\n",
              "       width=\"24px\">\n",
              "    <path d=\"M0 0h24v24H0V0z\" fill=\"none\"/>\n",
              "    <path d=\"M18.56 5.44l.94 2.06.94-2.06 2.06-.94-2.06-.94-.94-2.06-.94 2.06-2.06.94zm-11 1L8.5 8.5l.94-2.06 2.06-.94-2.06-.94L8.5 2.5l-.94 2.06-2.06.94zm10 10l.94 2.06.94-2.06 2.06-.94-2.06-.94-.94-2.06-.94 2.06-2.06.94z\"/><path d=\"M17.41 7.96l-1.37-1.37c-.4-.4-.92-.59-1.43-.59-.52 0-1.04.2-1.43.59L10.3 9.45l-7.72 7.72c-.78.78-.78 2.05 0 2.83L4 21.41c.39.39.9.59 1.41.59.51 0 1.02-.2 1.41-.59l7.78-7.78 2.81-2.81c.8-.78.8-2.07 0-2.86zM5.41 20L4 18.59l7.72-7.72 1.47 1.35L5.41 20z\"/>\n",
              "  </svg>\n",
              "      </button>\n",
              "      \n",
              "  <style>\n",
              "    .colab-df-container {\n",
              "      display:flex;\n",
              "      flex-wrap:wrap;\n",
              "      gap: 12px;\n",
              "    }\n",
              "\n",
              "    .colab-df-convert {\n",
              "      background-color: #E8F0FE;\n",
              "      border: none;\n",
              "      border-radius: 50%;\n",
              "      cursor: pointer;\n",
              "      display: none;\n",
              "      fill: #1967D2;\n",
              "      height: 32px;\n",
              "      padding: 0 0 0 0;\n",
              "      width: 32px;\n",
              "    }\n",
              "\n",
              "    .colab-df-convert:hover {\n",
              "      background-color: #E2EBFA;\n",
              "      box-shadow: 0px 1px 2px rgba(60, 64, 67, 0.3), 0px 1px 3px 1px rgba(60, 64, 67, 0.15);\n",
              "      fill: #174EA6;\n",
              "    }\n",
              "\n",
              "    [theme=dark] .colab-df-convert {\n",
              "      background-color: #3B4455;\n",
              "      fill: #D2E3FC;\n",
              "    }\n",
              "\n",
              "    [theme=dark] .colab-df-convert:hover {\n",
              "      background-color: #434B5C;\n",
              "      box-shadow: 0px 1px 3px 1px rgba(0, 0, 0, 0.15);\n",
              "      filter: drop-shadow(0px 1px 2px rgba(0, 0, 0, 0.3));\n",
              "      fill: #FFFFFF;\n",
              "    }\n",
              "  </style>\n",
              "\n",
              "      <script>\n",
              "        const buttonEl =\n",
              "          document.querySelector('#df-9553a8f5-a171-4ff2-9b31-39b8e5683c6b button.colab-df-convert');\n",
              "        buttonEl.style.display =\n",
              "          google.colab.kernel.accessAllowed ? 'block' : 'none';\n",
              "\n",
              "        async function convertToInteractive(key) {\n",
              "          const element = document.querySelector('#df-9553a8f5-a171-4ff2-9b31-39b8e5683c6b');\n",
              "          const dataTable =\n",
              "            await google.colab.kernel.invokeFunction('convertToInteractive',\n",
              "                                                     [key], {});\n",
              "          if (!dataTable) return;\n",
              "\n",
              "          const docLinkHtml = 'Like what you see? Visit the ' +\n",
              "            '<a target=\"_blank\" href=https://colab.research.google.com/notebooks/data_table.ipynb>data table notebook</a>'\n",
              "            + ' to learn more about interactive tables.';\n",
              "          element.innerHTML = '';\n",
              "          dataTable['output_type'] = 'display_data';\n",
              "          await google.colab.output.renderOutput(dataTable, element);\n",
              "          const docLink = document.createElement('div');\n",
              "          docLink.innerHTML = docLinkHtml;\n",
              "          element.appendChild(docLink);\n",
              "        }\n",
              "      </script>\n",
              "    </div>\n",
              "  </div>\n",
              "  "
            ],
            "text/plain": [
              "         0  1      2      3       4       5        6        7       8   \\\n",
              "0    842302  M  17.99  10.38  122.80  1001.0  0.11840  0.27760  0.3001   \n",
              "1    842517  M  20.57  17.77  132.90  1326.0  0.08474  0.07864  0.0869   \n",
              "2  84300903  M  19.69  21.25  130.00  1203.0  0.10960  0.15990  0.1974   \n",
              "3  84348301  M  11.42  20.38   77.58   386.1  0.14250  0.28390  0.2414   \n",
              "4  84358402  M  20.29  14.34  135.10  1297.0  0.10030  0.13280  0.1980   \n",
              "\n",
              "        9   ...     22     23      24      25      26      27      28      29  \\\n",
              "0  0.14710  ...  25.38  17.33  184.60  2019.0  0.1622  0.6656  0.7119  0.2654   \n",
              "1  0.07017  ...  24.99  23.41  158.80  1956.0  0.1238  0.1866  0.2416  0.1860   \n",
              "2  0.12790  ...  23.57  25.53  152.50  1709.0  0.1444  0.4245  0.4504  0.2430   \n",
              "3  0.10520  ...  14.91  26.50   98.87   567.7  0.2098  0.8663  0.6869  0.2575   \n",
              "4  0.10430  ...  22.54  16.67  152.20  1575.0  0.1374  0.2050  0.4000  0.1625   \n",
              "\n",
              "       30       31  \n",
              "0  0.4601  0.11890  \n",
              "1  0.2750  0.08902  \n",
              "2  0.3613  0.08758  \n",
              "3  0.6638  0.17300  \n",
              "4  0.2364  0.07678  \n",
              "\n",
              "[5 rows x 32 columns]"
            ]
          },
          "execution_count": 10,
          "metadata": {},
          "output_type": "execute_result"
        }
      ],
      "source": [
        "import pandas as pd\n",
        "# df = pd.read_csv('C:/Users/Usuário/Desktop/wdbc.data', header=None)\n",
        "# df = pd.read_csv(path + '/datasets/wdbc.data', header=None)\n",
        "df = pd.read_csv(path + '/datasets/wdbc.data', header=None)\n",
        "df.head()"
      ]
    },
    {
      "cell_type": "code",
      "execution_count": null,
      "metadata": {
        "colab": {
          "base_uri": "https://localhost:8080/"
        },
        "id": "gOpgdkG0DE4k",
        "outputId": "63a24cce-7f58-4e17-9ca8-4730c8e4fcb7"
      },
      "outputs": [
        {
          "data": {
            "text/plain": [
              "(569, 32)"
            ]
          },
          "execution_count": 11,
          "metadata": {},
          "output_type": "execute_result"
        }
      ],
      "source": [
        "df.shape"
      ]
    },
    {
      "cell_type": "code",
      "execution_count": null,
      "metadata": {
        "colab": {
          "base_uri": "https://localhost:8080/"
        },
        "id": "zvb-Uw7iDJmP",
        "outputId": "958210a1-7934-4806-ea4a-529728222f9b"
      },
      "outputs": [
        {
          "name": "stdout",
          "output_type": "stream",
          "text": [
            "Acurácia do Teste: 0.956\n",
            "\n",
            "Matriz de confusão para o Modelo LogisticRegression\n",
            "Verdadeiro positivo:  71 Falso negativo:      1\n",
            "Falso positivo:       4 Verdadeiro negativo: 38\n",
            "\n",
            "Classification report para o Modelo LogisticRegression\n",
            "              precision    recall  f1-score   support\n",
            "\n",
            "           0       0.95      0.99      0.97        72\n",
            "           1       0.97      0.90      0.94        42\n",
            "\n",
            "    accuracy                           0.96       114\n",
            "   macro avg       0.96      0.95      0.95       114\n",
            "weighted avg       0.96      0.96      0.96       114\n",
            "\n"
          ]
        }
      ],
      "source": [
        "from sklearn.preprocessing import LabelEncoder\n",
        "X = df.loc[:, 2:].values\n",
        "y =df.loc[:, 1].values\n",
        "le = LabelEncoder()\n",
        "y = le.fit_transform(y)\n",
        "le.classes_\n",
        "le.transform(['M', 'B'])\n",
        "from sklearn.model_selection import train_test_split\n",
        "X_train, X_test, y_train, y_test = train_test_split(X, y, test_size = 0.20,\n",
        "                                                    stratify = y,\n",
        "                                                    random_state = 1)\n",
        "from sklearn.preprocessing import StandardScaler\n",
        "from sklearn.decomposition import PCA\n",
        "from sklearn.linear_model import LogisticRegression\n",
        "from sklearn.pipeline import make_pipeline\n",
        "pipe_lr = make_pipeline (StandardScaler(), PCA(n_components = 2),\n",
        "                         LogisticRegression(random_state = 1, solver='lbfgs'))\n",
        "pipe_lr.fit(X_train, y_train)\n",
        "y_pred = pipe_lr.predict(X_test)\n",
        "print ('Acurácia do Teste: %.3f' %pipe_lr.score(X_test, y_test))\n",
        "\n",
        "print(\"\")\n",
        "printConfusionMatrix(y_true = y_test, y_pred = y_pred,\n",
        "                     model = \"Modelo LogisticRegression\")\n",
        "print(\"\")\n",
        "printClassificationReport(y_true = y_test, y_pred = y_pred,\n",
        "                          model = \"Modelo LogisticRegression\")"
      ]
    },
    {
      "cell_type": "markdown",
      "metadata": {
        "id": "lyWgd4JNIS4b"
      },
      "source": [
        "# Questão III\n",
        "Tarefa para Casa: considerando-se a Tarefa ii avaliar o impacto de outros modelos inteligentes pertinentes na classificação da base desbalanceada utilizada anteriormente. Apresentar o código desenvolvido para cada modelo proposto e avaliaro impacto dos mesmos na classificação e evidentemente da base desbalanceada utilizada.\n"
      ]
    },
    {
      "cell_type": "markdown",
      "metadata": {
        "id": "rRNHtDW7JBns"
      },
      "source": [
        "## SVC"
      ]
    },
    {
      "cell_type": "code",
      "execution_count": null,
      "metadata": {
        "colab": {
          "base_uri": "https://localhost:8080/"
        },
        "id": "XTWMNxxEIVes",
        "outputId": "cda5a384-9b46-49ed-8e91-a991dd5c99ab"
      },
      "outputs": [
        {
          "name": "stdout",
          "output_type": "stream",
          "text": [
            "Acurácia do Teste: 0.956\n",
            "\n",
            "Matriz de confusão para o Modelo SVC\n",
            "Verdadeiro positivo:  72 Falso negativo:      0\n",
            "Falso positivo:       5 Verdadeiro negativo: 37\n",
            "\n",
            "Classification report para o Modelo SVC\n",
            "              precision    recall  f1-score   support\n",
            "\n",
            "           0       0.94      1.00      0.97        72\n",
            "           1       1.00      0.88      0.94        42\n",
            "\n",
            "    accuracy                           0.96       114\n",
            "   macro avg       0.97      0.94      0.95       114\n",
            "weighted avg       0.96      0.96      0.96       114\n",
            "\n"
          ]
        }
      ],
      "source": [
        "from sklearn.svm import SVC\n",
        "\n",
        "# criação de pipeline\n",
        "pipe_svc = make_pipeline(StandardScaler(), PCA(n_components = 2),\n",
        "                         SVC(C = 1, kernel = 'rbf', gamma = 0.001,\n",
        "                             cache_size = 500, random_state = 1))\n",
        "# Treinamento\n",
        "pipe_svc.fit(X_train, y_train)\n",
        "y_pred = pipe_svc.predict(X_test)\n",
        "\n",
        "print ('Acurácia do Teste: %.3f' %pipe_svc.score(X_test, y_test))\n",
        "\n",
        "print(\"\")\n",
        "printConfusionMatrix(y_true = y_test, y_pred = y_pred, model = \"Modelo SVC\")\n",
        "print(\"\")\n",
        "printClassificationReport(y_true = y_test, y_pred = y_pred,\n",
        "                          model = \"Modelo SVC\")"
      ]
    },
    {
      "cell_type": "markdown",
      "metadata": {
        "id": "XLTaOjYlN5Od"
      },
      "source": [
        "### Curva de aprendizado - *Learning Curve*\n",
        "\n",
        "https://scikit-learn.org/stable/modules/generated/sklearn.model_selection.learning_curve.html Determines cross-validated training and test scores for different training set sizes.\n",
        "\n",
        "A cross-validation generator splits the whole dataset k times in training and test data. Subsets of the training set with varying sizes will be used to train the estimator and a score for each training subset size and the test set will be computed. Afterwards, the scores will be averaged over all k runs for each training subset size."
      ]
    },
    {
      "cell_type": "code",
      "execution_count": null,
      "metadata": {
        "colab": {
          "base_uri": "https://localhost:8080/",
          "height": 297
        },
        "id": "LjUTJFZHMJHs",
        "outputId": "6930b915-2ffd-4062-9ddc-81088f283e3a"
      },
      "outputs": [
        {
          "data": {
            "image/png": "[encoded data removed]",
            "text/plain": [
              "<Figure size 432x288 with 1 Axes>"
            ]
          },
          "metadata": {},
          "output_type": "display_data"
        }
      ],
      "source": [
        "from sklearn.model_selection import learning_curve\n",
        "\n",
        "train_sizes, train_scores, test_scores = \\\n",
        "    learning_curve(estimator = pipe_svc, X = X_train,\n",
        "                   y = y_train,\n",
        "                   train_sizes = np.linspace(0.1, 1.0, 30), cv = 5,\n",
        "                   n_jobs = -1)\n",
        "train_mean = np.mean(train_scores, axis=1)\n",
        "train_std = np.std(train_scores, axis=1)\n",
        "test_mean = np.mean(test_scores, axis=1)\n",
        "test_std = np.std(test_scores, axis=1)\n",
        "plt.plot(train_sizes, train_mean, color='blue', marker='o', markersize=5,\n",
        "         label='Accuracy do Treinanento')\n",
        "plt.fill_between(train_sizes, train_mean + train_std, train_mean - train_std,\n",
        "                 alpha=0.15, color='blue')\n",
        "\n",
        "plt.plot(train_sizes, test_mean, color='green', linestyle = '--', marker='s',\n",
        "         markersize = 5, label = 'Accuracy do Teste')\n",
        "# não estaria incorreto chamar de Accuracy da Validação, do ponto de vista de\n",
        "# Instrumentação\n",
        "plt.fill_between(train_sizes, test_mean + test_std, test_mean - test_std,\n",
        "                 alpha = 0.15, color = 'green')\n",
        "plt.grid()\n",
        "plt.xlabel('Número de Dados')\n",
        "plt.ylabel('Accuracy')\n",
        "plt.legend(loc='lower right')\n",
        "plt.ylim([0.75, 1.01])\n",
        "plt.tight_layout()\n",
        "plt.show()"
      ]
    },
    {
      "cell_type": "markdown",
      "metadata": {
        "id": "ExOimlX6Ol7m"
      },
      "source": [
        "### GridSearch"
      ]
    },
    {
      "cell_type": "code",
      "execution_count": null,
      "metadata": {
        "colab": {
          "base_uri": "https://localhost:8080/"
        },
        "id": "MP8R9A_jOqCL",
        "outputId": "f712a9ed-48e4-4e39-daaf-4a7f2bdb8b1f"
      },
      "outputs": [
        {
          "name": "stdout",
          "output_type": "stream",
          "text": [
            "0.945054945054945\n",
            "{'svc__C': 100.0, 'svc__gamma': 0.001, 'svc__kernel': 'rbf'}\n",
            "Accuracy do Teste: 0.965\n"
          ]
        }
      ],
      "source": [
        "from sklearn.model_selection import GridSearchCV # RandomizedSearchCV\n",
        "\n",
        "param_C_range = [0.01, 0.1, 1.0, 10.0, 100.0, 1000.0]\n",
        "param_gamma_range = [0.0001, 0.001, 0.01, 0.1, 1.0]\n",
        "param_grid = [\n",
        "              # {'svc__C': param_C_range, 'svc__kernel': ['linear']},\n",
        "              {'svc__C': param_C_range, 'svc__gamma': param_gamma_range,\n",
        "               'svc__kernel': ['rbf']}]\n",
        "gs = GridSearchCV(estimator = pipe_svc, param_grid = param_grid,\n",
        "                  scoring = 'accuracy', refit = True, cv = 5, n_jobs = -1)\n",
        "gs = gs.fit(X_train, y_train)\n",
        "print(gs.best_score_)\n",
        "print(gs.best_params_)\n",
        "clf = gs.best_estimator_\n",
        "print('Accuracy do Teste: %.3f' %clf.score(X_test, y_test))"
      ]
    },
    {
      "cell_type": "code",
      "execution_count": null,
      "metadata": {
        "colab": {
          "base_uri": "https://localhost:8080/"
        },
        "id": "CwWp9bJ_PPAU",
        "outputId": "ba2d217b-b161-47b5-d1e8-fbb026202790"
      },
      "outputs": [
        {
          "name": "stdout",
          "output_type": "stream",
          "text": [
            "Acurácia do Teste: 0.965\n",
            "\n",
            "Matriz de confusão para o Modelo SVC Otimizado\n",
            "Verdadeiro positivo:  71 Falso negativo:      1\n",
            "Falso positivo:       3 Verdadeiro negativo: 39\n",
            "\n",
            "Classification report para o Modelo SVC Otimizado\n",
            "              precision    recall  f1-score   support\n",
            "\n",
            "           0       0.96      0.99      0.97        72\n",
            "           1       0.97      0.93      0.95        42\n",
            "\n",
            "    accuracy                           0.96       114\n",
            "   macro avg       0.97      0.96      0.96       114\n",
            "weighted avg       0.97      0.96      0.96       114\n",
            "\n"
          ]
        }
      ],
      "source": [
        "from sklearn.svm import SVC\n",
        "\n",
        "# criação de pipeline\n",
        "pipe_svc_otimizada = make_pipeline(StandardScaler(), PCA(n_components = 2),\n",
        "                         SVC(C = 100, kernel = 'rbf', gamma = 0.001,\n",
        "                             cache_size = 500, random_state = 1))\n",
        "# Treinamento\n",
        "pipe_svc_otimizada.fit(X_train, y_train)\n",
        "y_pred = pipe_svc_otimizada.predict(X_test)\n",
        "\n",
        "print ('Acurácia do Teste: %.3f' %pipe_svc_otimizada.score(X_test, y_test))\n",
        "\n",
        "print(\"\")\n",
        "printConfusionMatrix(y_true = y_test, y_pred = y_pred,\n",
        "                     model = \"Modelo SVC Otimizado\")\n",
        "print(\"\")\n",
        "printClassificationReport(y_true = y_test, y_pred = y_pred,\n",
        "                          model = \"Modelo SVC Otimizado\")"
      ]
    },
    {
      "cell_type": "markdown",
      "metadata": {
        "id": "bhY9tejdFU-R"
      },
      "source": [
        "## Random Florest"
      ]
    },
    {
      "cell_type": "code",
      "execution_count": null,
      "metadata": {
        "colab": {
          "base_uri": "https://localhost:8080/"
        },
        "id": "6tbRm5EBFX25",
        "outputId": "54dd7b80-09e2-4365-dd08-b2edf1982662"
      },
      "outputs": [
        {
          "name": "stdout",
          "output_type": "stream",
          "text": [
            "Acurácia do Teste: 0.777\n",
            "Random Forest \n",
            "Accuracy:0.777\n",
            "\n",
            "Matriz de confusão para o Modelo Random Forest\n",
            "Verdadeiro positivo:  6042 Falso negativo:      766\n",
            "Falso positivo:       1247 Verdadeiro negativo: 990\n",
            "\n",
            "Classification report para o Modelo Random Forest\n",
            "              precision    recall  f1-score   support\n",
            "\n",
            "           0       0.83      0.89      0.86      6808\n",
            "           1       0.56      0.44      0.50      2237\n",
            "\n",
            "    accuracy                           0.78      9045\n",
            "   macro avg       0.70      0.67      0.68      9045\n",
            "weighted avg       0.76      0.78      0.77      9045\n",
            "\n"
          ]
        }
      ],
      "source": [
        "# criação de pipeline\n",
        "pipe_random_forest = make_pipeline(StandardScaler(), PCA(n_components = 2),\n",
        "                                   RandomForestClassifier(random_state = 1))\n",
        "# Treinamento\n",
        "pipe_random_forest.fit(X_train, y_train)\n",
        "y_pred = pipe_random_forest.predict(X_test)\n",
        "\n",
        "print ('Acurácia do Teste: %.3f' %pipe_random_forest.score(X_test, y_test))\n",
        "print ('Random Forest \\nAccuracy:{0:.3f}'.format(accuracy_score(y_test,\n",
        "                                                                y_pred)))\n",
        "\n",
        "print(\"\")\n",
        "printConfusionMatrix(y_true = y_test, y_pred = y_pred,\n",
        "                     model = \"Modelo Random Forest\")\n",
        "print(\"\")\n",
        "printClassificationReport(y_true = y_test, y_pred = y_pred,\n",
        "                          model = \"Modelo Random Forest\")"
      ]
    },
    {
      "cell_type": "markdown",
      "metadata": {
        "id": "9FfgpxKqIBLb"
      },
      "source": [
        "# Questão IV - Acentuado o problema\n",
        "\n",
        "Tarefa no Laboratório: analisando-se o conjunto de dados original disponibilizado é perceptível que essa base de dados possui um tamanho amostral de 569 dados sendo 357 dados representando tumores benignos (por exemplo, denominada de classe 0) e 212 dados representando tumores malignos (por exemplo, denominada de classe 1).\n",
        "Nesta tarefa deverão forçar um desbalanço ainda maior e analisar o impacto na\n",
        "classificação usando a mesma abordagem inteligente da Tarefa ii (considerei que o código abaixo segue na sequência do código da Tarefa ii para ganhar tempo em sala de aula – posteriormente sugiro torná-los independentes). Basicamente anexei verticalmente 40 dados da classe 1 (usando a função do numpy vstack) à classe 0 (357 amostras) gerando um total de 397 instâncias ou dados. Da mesma forma, anexei horizontalmente 40 dados da classe 1 (tumor maligno) aos 357 dados da classe 0 (tumor benigno) usando a função do numpy hstack. Abrir o ambiente de programação Python, digitar o correspondente código e analisar o mesmo."
      ]
    },
    {
      "cell_type": "markdown",
      "metadata": {
        "id": "K2sdt2DHuEMF"
      },
      "source": [
        "## 357 + 40\n",
        "\n",
        "|    N    |    %    |\n",
        "| ------- | ------- |\n",
        "|   397   |   100   |\n",
        "|   357   |  89,92  |"
      ]
    },
    {
      "cell_type": "code",
      "execution_count": null,
      "metadata": {
        "colab": {
          "base_uri": "https://localhost:8080/"
        },
        "id": "1jzBy80Pp4_V",
        "outputId": "1eda2d26-633a-41ee-b7c8-b6ff6369d7d6"
      },
      "outputs": [
        {
          "data": {
            "text/plain": [
              "89.92443324937027"
            ]
          },
          "execution_count": 17,
          "metadata": {},
          "output_type": "execute_result"
        }
      ],
      "source": [
        "X_adaptado = np.vstack((X[y==0], X[y==1][:40]))\n",
        "y_adaptado = np.hstack((y[y==0], y[y==1][:40]))\n",
        "y_pred = np.zeros(y_adaptado.shape[0])\n",
        "np.mean(y_pred == y_adaptado) * 100"
      ]
    },
    {
      "cell_type": "code",
      "execution_count": null,
      "metadata": {
        "colab": {
          "base_uri": "https://localhost:8080/"
        },
        "id": "6twN3uesGaSu",
        "outputId": "9365a80a-73ad-486b-92f0-e97eedb37c02"
      },
      "outputs": [
        {
          "name": "stdout",
          "output_type": "stream",
          "text": [
            "Acurácia do Teste: 0.963\n",
            "\n",
            "Matriz de confusão para o Modelo LogisticRegression IV\n",
            "Verdadeiro positivo:  72 Falso negativo:      0\n",
            "Falso positivo:       3 Verdadeiro negativo: 5\n",
            "\n",
            "Classification report para o Modelo LogisticRegression IV\n",
            "              precision    recall  f1-score   support\n",
            "\n",
            "           0       0.96      1.00      0.98        72\n",
            "           1       1.00      0.62      0.77         8\n",
            "\n",
            "    accuracy                           0.96        80\n",
            "   macro avg       0.98      0.81      0.87        80\n",
            "weighted avg       0.96      0.96      0.96        80\n",
            "\n"
          ]
        }
      ],
      "source": [
        "X_train, X_test, y_train, y_test = train_test_split(X_adaptado, y_adaptado,\n",
        "                                                    test_size = 0.20,\n",
        "                                                    stratify = y_adaptado,\n",
        "                                                    random_state = 1)\n",
        "from sklearn.preprocessing import StandardScaler\n",
        "from sklearn.decomposition import PCA\n",
        "from sklearn.linear_model import LogisticRegression\n",
        "from sklearn.pipeline import make_pipeline\n",
        "pipe_lr = make_pipeline (StandardScaler(), PCA(n_components=2), LogisticRegression(random_state=1, solver='lbfgs'))\n",
        "pipe_lr.fit(X_train, y_train)\n",
        "y_pred = pipe_lr.predict(X_test)\n",
        "print ('Acurácia do Teste: %.3f' %pipe_lr.score(X_test, y_test))\n",
        "\n",
        "print(\"\")\n",
        "printConfusionMatrix(y_true = y_test, y_pred = y_pred, model = \"Modelo LogisticRegression IV\")\n",
        "print(\"\")\n",
        "printClassificationReport(y_true = y_test, y_pred = y_pred, model = \"Modelo LogisticRegression IV\")"
      ]
    },
    {
      "cell_type": "markdown",
      "metadata": {
        "id": "hJHbHvZVsFS6"
      },
      "source": [
        "# Questão V - Testando outras divisões, que evidenciam a natureza do problema\n",
        "\n",
        "Tarefa para Casa: realizar o mesmo procedimento da Tarefa iv com outras duas\n",
        "configurações de divisão, porém mantendo a classe 0 com seu tamanho original, ou seja, as mesmas 357 amostras do dataset original, ou seja, com x dados da classe 1 anexados a cada array. Testar e discutir."
      ]
    },
    {
      "cell_type": "markdown",
      "metadata": {
        "id": "9RhZv7MBt-BW"
      },
      "source": [
        "## 357 + 80\n",
        "\n",
        "|    N    |    %    |\n",
        "| ------- | ------- |\n",
        "|   437   |   100   |\n",
        "|   357   |  81,69  |"
      ]
    },
    {
      "cell_type": "code",
      "execution_count": null,
      "metadata": {
        "colab": {
          "base_uri": "https://localhost:8080/"
        },
        "id": "cZE1CICdsMCV",
        "outputId": "6a4f2318-ff42-4c96-c7b1-480fef448f5c"
      },
      "outputs": [
        {
          "data": {
            "text/plain": [
              "81.6933638443936"
            ]
          },
          "execution_count": 19,
          "metadata": {},
          "output_type": "execute_result"
        }
      ],
      "source": [
        "X_adaptado_add80 = np.vstack((X[y==0], X[y==1][:80]))\n",
        "y_adaptado_add80 = np.hstack((y[y==0], y[y==1][:80]))\n",
        "y_pred = np.zeros(y_adaptado_add80.shape[0])\n",
        "np.mean(y_pred == y_adaptado_add80) * 100"
      ]
    },
    {
      "cell_type": "code",
      "execution_count": null,
      "metadata": {
        "colab": {
          "base_uri": "https://localhost:8080/"
        },
        "id": "LYCznzE9sho1",
        "outputId": "b1743c28-13f1-4842-fcfc-4cec9b843d6c"
      },
      "outputs": [
        {
          "name": "stdout",
          "output_type": "stream",
          "text": [
            "Acurácia do Teste: 0.955\n",
            "\n",
            "Matriz de confusão para o Modelo LogisticRegression V - 80\n",
            "Verdadeiro positivo:  72 Falso negativo:      0\n",
            "Falso positivo:       4 Verdadeiro negativo: 12\n",
            "\n",
            "Classification report para o Modelo LogisticRegression V - 80\n",
            "              precision    recall  f1-score   support\n",
            "\n",
            "           0       0.95      1.00      0.97        72\n",
            "           1       1.00      0.75      0.86        16\n",
            "\n",
            "    accuracy                           0.95        88\n",
            "   macro avg       0.97      0.88      0.92        88\n",
            "weighted avg       0.96      0.95      0.95        88\n",
            "\n"
          ]
        }
      ],
      "source": [
        "X_train, X_test, y_train, y_test = train_test_split(X_adaptado_add80, y_adaptado_add80,\n",
        "                                                    test_size = 0.20,\n",
        "                                                    stratify = y_adaptado_add80,\n",
        "                                                    random_state = 1)\n",
        "from sklearn.preprocessing import StandardScaler\n",
        "from sklearn.decomposition import PCA\n",
        "from sklearn.linear_model import LogisticRegression\n",
        "from sklearn.pipeline import make_pipeline\n",
        "pipe_lr = make_pipeline (StandardScaler(), PCA(n_components=2), LogisticRegression(random_state=1, solver='lbfgs'))\n",
        "pipe_lr.fit(X_train, y_train)\n",
        "y_pred = pipe_lr.predict(X_test)\n",
        "print ('Acurácia do Teste: %.3f' %pipe_lr.score(X_test, y_test))\n",
        "\n",
        "print(\"\")\n",
        "printConfusionMatrix(y_true = y_test, y_pred = y_pred, model = \"Modelo LogisticRegression V - 80\")\n",
        "print(\"\")\n",
        "printClassificationReport(y_true = y_test, y_pred = y_pred, model = \"Modelo LogisticRegression V - 80\")"
      ]
    },
    {
      "cell_type": "markdown",
      "metadata": {
        "id": "ncEz39cOswZ1"
      },
      "source": [
        "## 357 + 120\n",
        "\n",
        "|    N    |    %    |\n",
        "| ------- | ------- |\n",
        "|   477   |   100   |\n",
        "|   357   |  74,84  |"
      ]
    },
    {
      "cell_type": "code",
      "execution_count": null,
      "metadata": {
        "colab": {
          "base_uri": "https://localhost:8080/"
        },
        "id": "1FXpMJEzs-H5",
        "outputId": "43a4cf3c-b0c2-4f09-e029-aa58771a714b"
      },
      "outputs": [
        {
          "data": {
            "text/plain": [
              "74.84276729559748"
            ]
          },
          "execution_count": 21,
          "metadata": {},
          "output_type": "execute_result"
        }
      ],
      "source": [
        "X_adaptado_add120 = np.vstack((X[y==0], X[y==1][:120]))\n",
        "y_adaptado_add120 = np.hstack((y[y==0], y[y==1][:120]))\n",
        "y_pred = np.zeros(y_adaptado_add120.shape[0])\n",
        "np.mean(y_pred == y_adaptado_add120) * 100"
      ]
    },
    {
      "cell_type": "code",
      "execution_count": null,
      "metadata": {
        "colab": {
          "base_uri": "https://localhost:8080/"
        },
        "id": "9fU4yk2PtTD3",
        "outputId": "86960375-ba48-4671-a1df-93d1c6b64258"
      },
      "outputs": [
        {
          "name": "stdout",
          "output_type": "stream",
          "text": [
            "Acurácia do Teste: 0.958\n",
            "\n",
            "Matriz de confusão para o Modelo LogisticRegression IV - 120\n",
            "Verdadeiro positivo:  72 Falso negativo:      0\n",
            "Falso positivo:       4 Verdadeiro negativo: 20\n",
            "\n",
            "Classification report para o Modelo LogisticRegression IV - 120\n",
            "              precision    recall  f1-score   support\n",
            "\n",
            "           0       0.95      1.00      0.97        72\n",
            "           1       1.00      0.83      0.91        24\n",
            "\n",
            "    accuracy                           0.96        96\n",
            "   macro avg       0.97      0.92      0.94        96\n",
            "weighted avg       0.96      0.96      0.96        96\n",
            "\n"
          ]
        }
      ],
      "source": [
        "X_train, X_test, y_train, y_test = train_test_split(X_adaptado_add120, y_adaptado_add120,\n",
        "                                                    test_size = 0.20,\n",
        "                                                    stratify = y_adaptado_add120,\n",
        "                                                    random_state = 1)\n",
        "from sklearn.preprocessing import StandardScaler\n",
        "from sklearn.decomposition import PCA\n",
        "from sklearn.linear_model import LogisticRegression\n",
        "from sklearn.pipeline import make_pipeline\n",
        "pipe_lr = make_pipeline (StandardScaler(), PCA(n_components=2), LogisticRegression(random_state=1, solver='lbfgs'))\n",
        "pipe_lr.fit(X_train, y_train)\n",
        "y_pred = pipe_lr.predict(X_test)\n",
        "print ('Acurácia do Teste: %.3f' %pipe_lr.score(X_test, y_test))\n",
        "\n",
        "print(\"\")\n",
        "printConfusionMatrix(y_true = y_test, y_pred = y_pred, model = \"Modelo LogisticRegression IV - 120\")\n",
        "print(\"\")\n",
        "printClassificationReport(y_true = y_test, y_pred = y_pred, model = \"Modelo LogisticRegression IV - 120\")"
      ]
    },
    {
      "cell_type": "markdown",
      "metadata": {
        "id": "u6RFBTFruKjP"
      },
      "source": [
        "# Questão VI\n",
        "\n",
        "Tarefa no Laboratório: existem diversas técnicas para tentar minimizar o efeito de dados desbalanceados. É importante observar que quando falamos em dados\n",
        "desbalanceados estamos afirmando que os níveis de um dado fator controlável de um experimento ou de uma base de dados contêm número diferente de amostras ou dados.\n",
        "\n",
        "\n",
        "É o mesmo que relatar na área de inteligência computacional, por exemplo, que em um classificador as classes estão desbalanceadas, pois possuem número de dados, amostras ou instâncias diferentes – basicamente é a mesma coisa. Uma das possíveis técnicas para minimizar o efeito do desbalanço entre as classes é propor alguma técnica de reamostragem de dados para gerar novos dados. Nesta tarefa vamos utilizar uma função dedicada da biblioteca scikit-learn para re-amostragem de dados que pode auxiliar no problema relacionado as classes desbalanceadas ou ao menos apresentar o resultado de uma métrica de desempenho “mais realista” ao problema de interesse. Portanto, esta função pode auxiliar com o upsampling da classe minoritária. Nesse caso estamos “criando” novas amostras sintéticas ao conjunto de dados. Abrir o ambiente de programação Python, digitar o correspondente código e analisar o mesmo (considerei que o código abaixo segue na sequência do código da Tarefa ii para ganhar tempo em sala de aula – posteriormente sugiro torná-los independentes)."
      ]
    },
    {
      "cell_type": "markdown",
      "metadata": {
        "id": "jbRAXcGkwdqu"
      },
      "source": [
        "https://scikit-learn.org/stable/modules/generated/sklearn.utils.resample.html Resample arrays or sparse matrices in a consistent way.\n",
        "\n",
        "The default strategy implements one step of the bootstrapping procedure."
      ]
    },
    {
      "cell_type": "code",
      "execution_count": null,
      "metadata": {
        "colab": {
          "base_uri": "https://localhost:8080/"
        },
        "id": "jEHSwOsmuLGd",
        "outputId": "85a6c78d-6799-4fcb-cdc8-3cce68542097"
      },
      "outputs": [
        {
          "name": "stdout",
          "output_type": "stream",
          "text": [
            "Número de Dados da Classe 1 (anterior): 40\n",
            "Número de Dados da Classe 1 (após a reamostragem) 357\n"
          ]
        },
        {
          "data": {
            "text/plain": [
              "50.0"
            ]
          },
          "execution_count": 23,
          "metadata": {},
          "output_type": "execute_result"
        }
      ],
      "source": [
        "from sklearn.utils import resample\n",
        "print('Número de Dados da Classe 1 (anterior):',\n",
        "      X_adaptado[y_adaptado == 1].shape[0])\n",
        "X_reamostrado, y_reamostrado = resample(X_adaptado[y_adaptado == 1],\n",
        "                                        y_adaptado[y_adaptado == 1],\n",
        "                                        replace=True,\n",
        "n_samples = X_adaptado[y_adaptado == 0].shape[0], random_state = 123)\n",
        "print('Número de Dados da Classe 1 (após a reamostragem)',\n",
        "      X_reamostrado.shape[0])\n",
        "\n",
        "import numpy as np\n",
        "x_bal = np.vstack((X[y == 0], X_reamostrado))\n",
        "y_bal = np.hstack((y[y == 0], y_reamostrado))\n",
        "y_pred = np.zeros(y_bal.shape[0])\n",
        "np.mean(y_pred == y_bal) * 100"
      ]
    },
    {
      "cell_type": "code",
      "execution_count": null,
      "metadata": {
        "colab": {
          "base_uri": "https://localhost:8080/"
        },
        "id": "Jo6BKEiRmugE",
        "outputId": "a73d783f-d389-4bf7-a1cd-9bf27eebfcfc"
      },
      "outputs": [
        {
          "name": "stdout",
          "output_type": "stream",
          "text": [
            "Acurácia do Teste: 0.958\n",
            "\n",
            "Matriz de confusão para o Modelo LogisticRegression VI\n",
            "Verdadeiro positivo:  69 Falso negativo:      2\n",
            "Falso positivo:       4 Verdadeiro negativo: 68\n",
            "\n",
            "Classification report para o Modelo LogisticRegression VI\n",
            "              precision    recall  f1-score   support\n",
            "\n",
            "           0       0.95      0.97      0.96        71\n",
            "           1       0.97      0.94      0.96        72\n",
            "\n",
            "    accuracy                           0.96       143\n",
            "   macro avg       0.96      0.96      0.96       143\n",
            "weighted avg       0.96      0.96      0.96       143\n",
            "\n"
          ]
        }
      ],
      "source": [
        "X_train, X_test, y_train, y_test = train_test_split(x_bal, y_bal,\n",
        "                                                    test_size = 0.20,\n",
        "                                                    stratify = y_bal,\n",
        "                                                    random_state = 1)\n",
        "from sklearn.preprocessing import StandardScaler\n",
        "from sklearn.decomposition import PCA\n",
        "from sklearn.linear_model import LogisticRegression\n",
        "from sklearn.pipeline import make_pipeline\n",
        "pipe_lr = make_pipeline (StandardScaler(), PCA(n_components=2),\n",
        "                         LogisticRegression(random_state=1, solver='lbfgs'))\n",
        "pipe_lr.fit(X_train, y_train)\n",
        "y_pred = pipe_lr.predict(X_test)\n",
        "print ('Acurácia do Teste: %.3f' %pipe_lr.score(X_test, y_test))\n",
        "\n",
        "print(\"\")\n",
        "printConfusionMatrix(y_true = y_test, y_pred = y_pred,\n",
        "                     model = \"Modelo LogisticRegression VI\")\n",
        "print(\"\")\n",
        "printClassificationReport(y_true = y_test, y_pred = y_pred,\n",
        "                          model = \"Modelo LogisticRegression VI\")"
      ]
    },
    {
      "cell_type": "markdown",
      "metadata": {
        "id": "K8zRBSEoosBE"
      },
      "source": [
        "# Questão VII\n",
        "\n",
        "Tarefa para Casa: considerando-se o método proposto na Tarefa vi é importante\n",
        "ressaltar que, para este conjunto de dados, poderíamos ter reduzido o tamanho\n",
        "amostral da Classe Majoritária para a etapa de treinamento. Para isso bastaria usar a função resample() e, se necessário, simplesmente trocar o rótulo da Classe 1 pela Classe 0 nos exemplos anteriores e vice-versa. Propor uma solução com esta abordagem de redução da classe majoritária da base de dados original – evidentemente realizada de forma automática e não manual! Discutir seus resultados.\n"
      ]
    },
    {
      "cell_type": "code",
      "execution_count": null,
      "metadata": {
        "colab": {
          "base_uri": "https://localhost:8080/"
        },
        "id": "GWSBmr8vuw6F",
        "outputId": "37c8f66c-d167-4f66-e489-457053414cdb"
      },
      "outputs": [
        {
          "name": "stdout",
          "output_type": "stream",
          "text": [
            "Acurácia do Teste: 0.956\n",
            "Número de Dados da Classe 0 (anterior): 357\n",
            "Número de Dados da Classe 1 (anterior): 212\n",
            "Número de Dados da Classe 0 (após a reamostragem) 212\n",
            "x_bal.shape[0] 424\n"
          ]
        },
        {
          "data": {
            "text/plain": [
              "50.0"
            ]
          },
          "execution_count": 45,
          "metadata": {},
          "output_type": "execute_result"
        }
      ],
      "source": [
        "import pandas as pd\n",
        "# df = pd.read_csv('C:/Users/Usuário/Desktop/wdbc.data', header=None)\n",
        "df = pd.read_csv(path + '/datasets/wdbc.data', header=None)\n",
        "df.head()\n",
        "df.shape\n",
        "from sklearn.preprocessing import LabelEncoder\n",
        "X = df.loc[:, 2:].values\n",
        "y =df.loc[:, 1].values\n",
        "le = LabelEncoder()\n",
        "y = le.fit_transform(y)\n",
        "le.classes_\n",
        "le.transform(['M', 'B'])\n",
        "from sklearn.model_selection import train_test_split\n",
        "X_train, X_test, y_train, y_test = train_test_split(X, y, test_size = 0.20, stratify=y, random_state =1)\n",
        "from sklearn.preprocessing import StandardScaler\n",
        "from sklearn.decomposition import PCA\n",
        "from sklearn.linear_model import LogisticRegression\n",
        "from sklearn.pipeline import make_pipeline\n",
        "pipe_lr = make_pipeline (StandardScaler(), PCA(n_components=2), LogisticRegression(random_state=1, solver='lbfgs'))\n",
        "pipe_lr.fit(X_train, y_train)\n",
        "y_pred = pipe_lr.predict(X_test)\n",
        "print ('Acurácia do Teste: %.3f' %pipe_lr.score(X_test, y_test))\n",
        "\n",
        "from sklearn.utils import resample\n",
        "print('Número de Dados da Classe 0 (anterior):',\n",
        "      X[y == 0].shape[0])\n",
        "print('Número de Dados da Classe 1 (anterior):',\n",
        "      X[y == 1].shape[0])\n",
        "X_reamostrado, y_reamostrado = resample(X[y == 0],\n",
        "                                        y[y == 0],\n",
        "                                        replace=True,\n",
        "                                        n_samples = X[y == 1].shape[0],\n",
        "                                        random_state = 123)\n",
        "print('Número de Dados da Classe 0 (após a reamostragem)',\n",
        "      X_reamostrado.shape[0])\n",
        "\n",
        "import numpy as np\n",
        "x_bal = np.vstack((X[y == 1], X_reamostrado))\n",
        "y_bal = np.hstack((y[y == 1], y_reamostrado))\n",
        "print('x_bal.shape[0]',\n",
        "      x_bal.shape[0])\n",
        "y_pred = np.zeros(y_bal.shape[0])\n",
        "np.mean(y_pred == y_bal) * 100"
      ]
    },
    {
      "cell_type": "code",
      "execution_count": null,
      "metadata": {
        "colab": {
          "base_uri": "https://localhost:8080/"
        },
        "id": "OQoBg0rfvOzV",
        "outputId": "d42b6810-8f16-4a1e-adfd-8742b6a437cb"
      },
      "outputs": [
        {
          "name": "stdout",
          "output_type": "stream",
          "text": [
            "Acurácia do Teste: 0.965\n",
            "\n",
            "Matriz de confusão para o Modelo LogisticRegression VII\n",
            "Verdadeiro positivo:  41 Falso negativo:      1\n",
            "Falso positivo:       2 Verdadeiro negativo: 41\n",
            "\n",
            "Classification report para o Modelo LogisticRegression VII\n",
            "              precision    recall  f1-score   support\n",
            "\n",
            "           0       0.95      0.98      0.96        42\n",
            "           1       0.98      0.95      0.96        43\n",
            "\n",
            "    accuracy                           0.96        85\n",
            "   macro avg       0.96      0.96      0.96        85\n",
            "weighted avg       0.96      0.96      0.96        85\n",
            "\n"
          ]
        }
      ],
      "source": [
        "X_train, X_test, y_train, y_test = train_test_split(x_bal, y_bal,\n",
        "                                                    test_size = 0.20,\n",
        "                                                    stratify = y_bal,\n",
        "                                                    random_state = 1)\n",
        "from sklearn.preprocessing import StandardScaler\n",
        "from sklearn.decomposition import PCA\n",
        "from sklearn.linear_model import LogisticRegression\n",
        "from sklearn.pipeline import make_pipeline\n",
        "pipe_lr = make_pipeline (StandardScaler(), PCA(n_components=2),\n",
        "                         LogisticRegression(random_state=1, solver='lbfgs'))\n",
        "pipe_lr.fit(X_train, y_train)\n",
        "y_pred = pipe_lr.predict(X_test)\n",
        "print ('Acurácia do Teste: %.3f' %pipe_lr.score(X_test, y_test))\n",
        "\n",
        "print(\"\")\n",
        "printConfusionMatrix(y_true = y_test, y_pred = y_pred,\n",
        "                     model = \"Modelo LogisticRegression VII\")\n",
        "print(\"\")\n",
        "printClassificationReport(y_true = y_test, y_pred = y_pred,\n",
        "                          model = \"Modelo LogisticRegression VII\")"
      ]
    },
    {
      "cell_type": "markdown",
      "metadata": {
        "id": "Md-WPLL7vhjV"
      },
      "source": [
        "# Questão VIII\n",
        "\n",
        "Tarefa para Casa: avaliar outra base de dados desbalanceada e avaliar seu impacto com uma matriz de confusão. Portanto, para exercitar e reforçar a importância da análise adequada dos dados selecionei um conjunto de dados disponibilizado pela UCI. Estes dados são utilizados para classificarmos se a renda anual excede ou não os 50.000 USD. Utilizar APENAS os dados disponibilizados na Pasta DOCUMENTOS da nossa comunidade no MCOnf©. Baixar o arquivo nomeado de “adultoUCI.csv”. Abrir o ambiente de programação Python, digitar o correspondente código e analisar o mesmo."
      ]
    },
    {
      "cell_type": "code",
      "execution_count": null,
      "metadata": {
        "colab": {
          "base_uri": "https://localhost:8080/",
          "height": 444
        },
        "id": "rzQ_j06lv60n",
        "outputId": "4a94b79e-cbfe-4079-fc35-541a512d0db6"
      },
      "outputs": [
        {
          "data": {
            "text/html": [
              "\n",
              "  <div id=\"df-c5c8113d-7b28-4e92-92bb-618ea9b1358d\">\n",
              "    <div class=\"colab-df-container\">\n",
              "      <div>\n",
              "<style scoped>\n",
              "    .dataframe tbody tr th:only-of-type {\n",
              "        vertical-align: middle;\n",
              "    }\n",
              "\n",
              "    .dataframe tbody tr th {\n",
              "        vertical-align: top;\n",
              "    }\n",
              "\n",
              "    .dataframe thead th {\n",
              "        text-align: right;\n",
              "    }\n",
              "</style>\n",
              "<table border=\"1\" class=\"dataframe\">\n",
              "  <thead>\n",
              "    <tr style=\"text-align: right;\">\n",
              "      <th></th>\n",
              "      <th>age</th>\n",
              "      <th>workclass</th>\n",
              "      <th>fnlwgt</th>\n",
              "      <th>education</th>\n",
              "      <th>educational-num</th>\n",
              "      <th>marital-status</th>\n",
              "      <th>occupation</th>\n",
              "      <th>relationship</th>\n",
              "      <th>race</th>\n",
              "      <th>gender</th>\n",
              "      <th>capital-gain</th>\n",
              "      <th>capital-loss</th>\n",
              "      <th>hours-per-week</th>\n",
              "      <th>native-country</th>\n",
              "      <th>income</th>\n",
              "    </tr>\n",
              "  </thead>\n",
              "  <tbody>\n",
              "    <tr>\n",
              "      <th>0</th>\n",
              "      <td>25</td>\n",
              "      <td>Private</td>\n",
              "      <td>226802</td>\n",
              "      <td>11th</td>\n",
              "      <td>7</td>\n",
              "      <td>Never-married</td>\n",
              "      <td>Machine-op-inspct</td>\n",
              "      <td>Own-child</td>\n",
              "      <td>Black</td>\n",
              "      <td>Male</td>\n",
              "      <td>0</td>\n",
              "      <td>0</td>\n",
              "      <td>40</td>\n",
              "      <td>United-States</td>\n",
              "      <td>&lt;=50K</td>\n",
              "    </tr>\n",
              "    <tr>\n",
              "      <th>1</th>\n",
              "      <td>38</td>\n",
              "      <td>Private</td>\n",
              "      <td>89814</td>\n",
              "      <td>HS-grad</td>\n",
              "      <td>9</td>\n",
              "      <td>Married-civ-spouse</td>\n",
              "      <td>Farming-fishing</td>\n",
              "      <td>Husband</td>\n",
              "      <td>White</td>\n",
              "      <td>Male</td>\n",
              "      <td>0</td>\n",
              "      <td>0</td>\n",
              "      <td>50</td>\n",
              "      <td>United-States</td>\n",
              "      <td>&lt;=50K</td>\n",
              "    </tr>\n",
              "    <tr>\n",
              "      <th>2</th>\n",
              "      <td>28</td>\n",
              "      <td>Local-gov</td>\n",
              "      <td>336951</td>\n",
              "      <td>Assoc-acdm</td>\n",
              "      <td>12</td>\n",
              "      <td>Married-civ-spouse</td>\n",
              "      <td>Protective-serv</td>\n",
              "      <td>Husband</td>\n",
              "      <td>White</td>\n",
              "      <td>Male</td>\n",
              "      <td>0</td>\n",
              "      <td>0</td>\n",
              "      <td>40</td>\n",
              "      <td>United-States</td>\n",
              "      <td>&gt;50K</td>\n",
              "    </tr>\n",
              "    <tr>\n",
              "      <th>3</th>\n",
              "      <td>44</td>\n",
              "      <td>Private</td>\n",
              "      <td>160323</td>\n",
              "      <td>Some-college</td>\n",
              "      <td>10</td>\n",
              "      <td>Married-civ-spouse</td>\n",
              "      <td>Machine-op-inspct</td>\n",
              "      <td>Husband</td>\n",
              "      <td>Black</td>\n",
              "      <td>Male</td>\n",
              "      <td>7688</td>\n",
              "      <td>0</td>\n",
              "      <td>40</td>\n",
              "      <td>United-States</td>\n",
              "      <td>&gt;50K</td>\n",
              "    </tr>\n",
              "    <tr>\n",
              "      <th>4</th>\n",
              "      <td>18</td>\n",
              "      <td>?</td>\n",
              "      <td>103497</td>\n",
              "      <td>Some-college</td>\n",
              "      <td>10</td>\n",
              "      <td>Never-married</td>\n",
              "      <td>?</td>\n",
              "      <td>Own-child</td>\n",
              "      <td>White</td>\n",
              "      <td>Female</td>\n",
              "      <td>0</td>\n",
              "      <td>0</td>\n",
              "      <td>30</td>\n",
              "      <td>United-States</td>\n",
              "      <td>&lt;=50K</td>\n",
              "    </tr>\n",
              "  </tbody>\n",
              "</table>\n",
              "</div>\n",
              "      <button class=\"colab-df-convert\" onclick=\"convertToInteractive('df-c5c8113d-7b28-4e92-92bb-618ea9b1358d')\"\n",
              "              title=\"Convert this dataframe to an interactive table.\"\n",
              "              style=\"display:none;\">\n",
              "        \n",
              "  <svg xmlns=\"http://www.w3.org/2000/svg\" height=\"24px\"viewBox=\"0 0 24 24\"\n",
              "       width=\"24px\">\n",
              "    <path d=\"M0 0h24v24H0V0z\" fill=\"none\"/>\n",
              "    <path d=\"M18.56 5.44l.94 2.06.94-2.06 2.06-.94-2.06-.94-.94-2.06-.94 2.06-2.06.94zm-11 1L8.5 8.5l.94-2.06 2.06-.94-2.06-.94L8.5 2.5l-.94 2.06-2.06.94zm10 10l.94 2.06.94-2.06 2.06-.94-2.06-.94-.94-2.06-.94 2.06-2.06.94z\"/><path d=\"M17.41 7.96l-1.37-1.37c-.4-.4-.92-.59-1.43-.59-.52 0-1.04.2-1.43.59L10.3 9.45l-7.72 7.72c-.78.78-.78 2.05 0 2.83L4 21.41c.39.39.9.59 1.41.59.51 0 1.02-.2 1.41-.59l7.78-7.78 2.81-2.81c.8-.78.8-2.07 0-2.86zM5.41 20L4 18.59l7.72-7.72 1.47 1.35L5.41 20z\"/>\n",
              "  </svg>\n",
              "      </button>\n",
              "      \n",
              "  <style>\n",
              "    .colab-df-container {\n",
              "      display:flex;\n",
              "      flex-wrap:wrap;\n",
              "      gap: 12px;\n",
              "    }\n",
              "\n",
              "    .colab-df-convert {\n",
              "      background-color: #E8F0FE;\n",
              "      border: none;\n",
              "      border-radius: 50%;\n",
              "      cursor: pointer;\n",
              "      display: none;\n",
              "      fill: #1967D2;\n",
              "      height: 32px;\n",
              "      padding: 0 0 0 0;\n",
              "      width: 32px;\n",
              "    }\n",
              "\n",
              "    .colab-df-convert:hover {\n",
              "      background-color: #E2EBFA;\n",
              "      box-shadow: 0px 1px 2px rgba(60, 64, 67, 0.3), 0px 1px 3px 1px rgba(60, 64, 67, 0.15);\n",
              "      fill: #174EA6;\n",
              "    }\n",
              "\n",
              "    [theme=dark] .colab-df-convert {\n",
              "      background-color: #3B4455;\n",
              "      fill: #D2E3FC;\n",
              "    }\n",
              "\n",
              "    [theme=dark] .colab-df-convert:hover {\n",
              "      background-color: #434B5C;\n",
              "      box-shadow: 0px 1px 3px 1px rgba(0, 0, 0, 0.15);\n",
              "      filter: drop-shadow(0px 1px 2px rgba(0, 0, 0, 0.3));\n",
              "      fill: #FFFFFF;\n",
              "    }\n",
              "  </style>\n",
              "\n",
              "      <script>\n",
              "        const buttonEl =\n",
              "          document.querySelector('#df-c5c8113d-7b28-4e92-92bb-618ea9b1358d button.colab-df-convert');\n",
              "        buttonEl.style.display =\n",
              "          google.colab.kernel.accessAllowed ? 'block' : 'none';\n",
              "\n",
              "        async function convertToInteractive(key) {\n",
              "          const element = document.querySelector('#df-c5c8113d-7b28-4e92-92bb-618ea9b1358d');\n",
              "          const dataTable =\n",
              "            await google.colab.kernel.invokeFunction('convertToInteractive',\n",
              "                                                     [key], {});\n",
              "          if (!dataTable) return;\n",
              "\n",
              "          const docLinkHtml = 'Like what you see? Visit the ' +\n",
              "            '<a target=\"_blank\" href=https://colab.research.google.com/notebooks/data_table.ipynb>data table notebook</a>'\n",
              "            + ' to learn more about interactive tables.';\n",
              "          element.innerHTML = '';\n",
              "          dataTable['output_type'] = 'display_data';\n",
              "          await google.colab.output.renderOutput(dataTable, element);\n",
              "          const docLink = document.createElement('div');\n",
              "          docLink.innerHTML = docLinkHtml;\n",
              "          element.appendChild(docLink);\n",
              "        }\n",
              "      </script>\n",
              "    </div>\n",
              "  </div>\n",
              "  "
            ],
            "text/plain": [
              "   age  workclass  fnlwgt     education  educational-num      marital-status  \\\n",
              "0   25    Private  226802          11th                7       Never-married   \n",
              "1   38    Private   89814       HS-grad                9  Married-civ-spouse   \n",
              "2   28  Local-gov  336951    Assoc-acdm               12  Married-civ-spouse   \n",
              "3   44    Private  160323  Some-college               10  Married-civ-spouse   \n",
              "4   18          ?  103497  Some-college               10       Never-married   \n",
              "\n",
              "          occupation relationship   race  gender  capital-gain  capital-loss  \\\n",
              "0  Machine-op-inspct    Own-child  Black    Male             0             0   \n",
              "1    Farming-fishing      Husband  White    Male             0             0   \n",
              "2    Protective-serv      Husband  White    Male             0             0   \n",
              "3  Machine-op-inspct      Husband  Black    Male          7688             0   \n",
              "4                  ?    Own-child  White  Female             0             0   \n",
              "\n",
              "   hours-per-week native-country income  \n",
              "0              40  United-States  <=50K  \n",
              "1              50  United-States  <=50K  \n",
              "2              40  United-States   >50K  \n",
              "3              40  United-States   >50K  \n",
              "4              30  United-States  <=50K  "
            ]
          },
          "execution_count": 56,
          "metadata": {},
          "output_type": "execute_result"
        }
      ],
      "source": [
        "import pandas as pd\n",
        "import numpy as np\n",
        "from sklearn.ensemble import RandomForestClassifier\n",
        "from sklearn.model_selection import train_test_split\n",
        "from sklearn.metrics import classification_report,confusion_matrix,accuracy_score\n",
        "from sklearn import metrics\n",
        "import matplotlib.pyplot as plt\n",
        "import seaborn as sns\n",
        "# dados = pd.read_csv('C:/Users/Usuário/Desktop/adultoUCI.csv')\n",
        "dados = pd.read_csv(path + '/datasets/adultoUCI.csv')\n",
        "dados.head()"
      ]
    },
    {
      "cell_type": "code",
      "execution_count": null,
      "metadata": {
        "colab": {
          "base_uri": "https://localhost:8080/"
        },
        "id": "8jz1ifVVwdwl",
        "outputId": "4daf3041-b21d-4801-eba5-b9bdb254030e"
      },
      "outputs": [
        {
          "data": {
            "text/plain": [
              "<=50K    34014\n",
              ">50K     11208\n",
              "Name: income, dtype: int64"
            ]
          },
          "execution_count": 58,
          "metadata": {},
          "output_type": "execute_result"
        }
      ],
      "source": [
        "\n",
        "dados.replace('?', np.nan, inplace=True)\n",
        "dados.dropna(inplace=True)\n",
        "dados['income'].value_counts()"
      ]
    },
    {
      "cell_type": "code",
      "execution_count": null,
      "metadata": {
        "colab": {
          "base_uri": "https://localhost:8080/",
          "height": 267
        },
        "id": "VIzdkHtFEIS4",
        "outputId": "4fe08a92-f318-404b-b75c-f5f6b35c5519"
      },
      "outputs": [
        {
          "data": {
            "text/html": [
              "\n",
              "  <div id=\"df-2bf3dc73-2ff3-4482-9563-17045831047b\">\n",
              "    <div class=\"colab-df-container\">\n",
              "      <div>\n",
              "<style scoped>\n",
              "    .dataframe tbody tr th:only-of-type {\n",
              "        vertical-align: middle;\n",
              "    }\n",
              "\n",
              "    .dataframe tbody tr th {\n",
              "        vertical-align: top;\n",
              "    }\n",
              "\n",
              "    .dataframe thead th {\n",
              "        text-align: right;\n",
              "    }\n",
              "</style>\n",
              "<table border=\"1\" class=\"dataframe\">\n",
              "  <thead>\n",
              "    <tr style=\"text-align: right;\">\n",
              "      <th></th>\n",
              "      <th>age</th>\n",
              "      <th>workclass</th>\n",
              "      <th>fnlwgt</th>\n",
              "      <th>education</th>\n",
              "      <th>educational-num</th>\n",
              "      <th>marital-status</th>\n",
              "      <th>occupation</th>\n",
              "      <th>relationship</th>\n",
              "      <th>race</th>\n",
              "      <th>gender</th>\n",
              "      <th>capital-gain</th>\n",
              "      <th>capital-loss</th>\n",
              "      <th>hours-per-week</th>\n",
              "      <th>native-country</th>\n",
              "      <th>income</th>\n",
              "    </tr>\n",
              "  </thead>\n",
              "  <tbody>\n",
              "    <tr>\n",
              "      <th>0</th>\n",
              "      <td>25</td>\n",
              "      <td>2</td>\n",
              "      <td>226802</td>\n",
              "      <td>1</td>\n",
              "      <td>7</td>\n",
              "      <td>4</td>\n",
              "      <td>6</td>\n",
              "      <td>3</td>\n",
              "      <td>2</td>\n",
              "      <td>1</td>\n",
              "      <td>0</td>\n",
              "      <td>0</td>\n",
              "      <td>40</td>\n",
              "      <td>38</td>\n",
              "      <td>0</td>\n",
              "    </tr>\n",
              "    <tr>\n",
              "      <th>1</th>\n",
              "      <td>38</td>\n",
              "      <td>2</td>\n",
              "      <td>89814</td>\n",
              "      <td>11</td>\n",
              "      <td>9</td>\n",
              "      <td>2</td>\n",
              "      <td>4</td>\n",
              "      <td>0</td>\n",
              "      <td>4</td>\n",
              "      <td>1</td>\n",
              "      <td>0</td>\n",
              "      <td>0</td>\n",
              "      <td>50</td>\n",
              "      <td>38</td>\n",
              "      <td>0</td>\n",
              "    </tr>\n",
              "    <tr>\n",
              "      <th>2</th>\n",
              "      <td>28</td>\n",
              "      <td>1</td>\n",
              "      <td>336951</td>\n",
              "      <td>7</td>\n",
              "      <td>12</td>\n",
              "      <td>2</td>\n",
              "      <td>10</td>\n",
              "      <td>0</td>\n",
              "      <td>4</td>\n",
              "      <td>1</td>\n",
              "      <td>0</td>\n",
              "      <td>0</td>\n",
              "      <td>40</td>\n",
              "      <td>38</td>\n",
              "      <td>1</td>\n",
              "    </tr>\n",
              "    <tr>\n",
              "      <th>3</th>\n",
              "      <td>44</td>\n",
              "      <td>2</td>\n",
              "      <td>160323</td>\n",
              "      <td>15</td>\n",
              "      <td>10</td>\n",
              "      <td>2</td>\n",
              "      <td>6</td>\n",
              "      <td>0</td>\n",
              "      <td>2</td>\n",
              "      <td>1</td>\n",
              "      <td>7688</td>\n",
              "      <td>0</td>\n",
              "      <td>40</td>\n",
              "      <td>38</td>\n",
              "      <td>1</td>\n",
              "    </tr>\n",
              "    <tr>\n",
              "      <th>5</th>\n",
              "      <td>34</td>\n",
              "      <td>2</td>\n",
              "      <td>198693</td>\n",
              "      <td>0</td>\n",
              "      <td>6</td>\n",
              "      <td>4</td>\n",
              "      <td>7</td>\n",
              "      <td>1</td>\n",
              "      <td>4</td>\n",
              "      <td>1</td>\n",
              "      <td>0</td>\n",
              "      <td>0</td>\n",
              "      <td>30</td>\n",
              "      <td>38</td>\n",
              "      <td>0</td>\n",
              "    </tr>\n",
              "  </tbody>\n",
              "</table>\n",
              "</div>\n",
              "      <button class=\"colab-df-convert\" onclick=\"convertToInteractive('df-2bf3dc73-2ff3-4482-9563-17045831047b')\"\n",
              "              title=\"Convert this dataframe to an interactive table.\"\n",
              "              style=\"display:none;\">\n",
              "        \n",
              "  <svg xmlns=\"http://www.w3.org/2000/svg\" height=\"24px\"viewBox=\"0 0 24 24\"\n",
              "       width=\"24px\">\n",
              "    <path d=\"M0 0h24v24H0V0z\" fill=\"none\"/>\n",
              "    <path d=\"M18.56 5.44l.94 2.06.94-2.06 2.06-.94-2.06-.94-.94-2.06-.94 2.06-2.06.94zm-11 1L8.5 8.5l.94-2.06 2.06-.94-2.06-.94L8.5 2.5l-.94 2.06-2.06.94zm10 10l.94 2.06.94-2.06 2.06-.94-2.06-.94-.94-2.06-.94 2.06-2.06.94z\"/><path d=\"M17.41 7.96l-1.37-1.37c-.4-.4-.92-.59-1.43-.59-.52 0-1.04.2-1.43.59L10.3 9.45l-7.72 7.72c-.78.78-.78 2.05 0 2.83L4 21.41c.39.39.9.59 1.41.59.51 0 1.02-.2 1.41-.59l7.78-7.78 2.81-2.81c.8-.78.8-2.07 0-2.86zM5.41 20L4 18.59l7.72-7.72 1.47 1.35L5.41 20z\"/>\n",
              "  </svg>\n",
              "      </button>\n",
              "      \n",
              "  <style>\n",
              "    .colab-df-container {\n",
              "      display:flex;\n",
              "      flex-wrap:wrap;\n",
              "      gap: 12px;\n",
              "    }\n",
              "\n",
              "    .colab-df-convert {\n",
              "      background-color: #E8F0FE;\n",
              "      border: none;\n",
              "      border-radius: 50%;\n",
              "      cursor: pointer;\n",
              "      display: none;\n",
              "      fill: #1967D2;\n",
              "      height: 32px;\n",
              "      padding: 0 0 0 0;\n",
              "      width: 32px;\n",
              "    }\n",
              "\n",
              "    .colab-df-convert:hover {\n",
              "      background-color: #E2EBFA;\n",
              "      box-shadow: 0px 1px 2px rgba(60, 64, 67, 0.3), 0px 1px 3px 1px rgba(60, 64, 67, 0.15);\n",
              "      fill: #174EA6;\n",
              "    }\n",
              "\n",
              "    [theme=dark] .colab-df-convert {\n",
              "      background-color: #3B4455;\n",
              "      fill: #D2E3FC;\n",
              "    }\n",
              "\n",
              "    [theme=dark] .colab-df-convert:hover {\n",
              "      background-color: #434B5C;\n",
              "      box-shadow: 0px 1px 3px 1px rgba(0, 0, 0, 0.15);\n",
              "      filter: drop-shadow(0px 1px 2px rgba(0, 0, 0, 0.3));\n",
              "      fill: #FFFFFF;\n",
              "    }\n",
              "  </style>\n",
              "\n",
              "      <script>\n",
              "        const buttonEl =\n",
              "          document.querySelector('#df-2bf3dc73-2ff3-4482-9563-17045831047b button.colab-df-convert');\n",
              "        buttonEl.style.display =\n",
              "          google.colab.kernel.accessAllowed ? 'block' : 'none';\n",
              "\n",
              "        async function convertToInteractive(key) {\n",
              "          const element = document.querySelector('#df-2bf3dc73-2ff3-4482-9563-17045831047b');\n",
              "          const dataTable =\n",
              "            await google.colab.kernel.invokeFunction('convertToInteractive',\n",
              "                                                     [key], {});\n",
              "          if (!dataTable) return;\n",
              "\n",
              "          const docLinkHtml = 'Like what you see? Visit the ' +\n",
              "            '<a target=\"_blank\" href=https://colab.research.google.com/notebooks/data_table.ipynb>data table notebook</a>'\n",
              "            + ' to learn more about interactive tables.';\n",
              "          element.innerHTML = '';\n",
              "          dataTable['output_type'] = 'display_data';\n",
              "          await google.colab.output.renderOutput(dataTable, element);\n",
              "          const docLink = document.createElement('div');\n",
              "          docLink.innerHTML = docLinkHtml;\n",
              "          element.appendChild(docLink);\n",
              "        }\n",
              "      </script>\n",
              "    </div>\n",
              "  </div>\n",
              "  "
            ],
            "text/plain": [
              "   age  workclass  fnlwgt  education  educational-num  marital-status  \\\n",
              "0   25          2  226802          1                7               4   \n",
              "1   38          2   89814         11                9               2   \n",
              "2   28          1  336951          7               12               2   \n",
              "3   44          2  160323         15               10               2   \n",
              "5   34          2  198693          0                6               4   \n",
              "\n",
              "   occupation  relationship  race  gender  capital-gain  capital-loss  \\\n",
              "0           6             3     2       1             0             0   \n",
              "1           4             0     4       1             0             0   \n",
              "2          10             0     4       1             0             0   \n",
              "3           6             0     2       1          7688             0   \n",
              "5           7             1     4       1             0             0   \n",
              "\n",
              "   hours-per-week  native-country  income  \n",
              "0              40              38       0  \n",
              "1              50              38       0  \n",
              "2              40              38       1  \n",
              "3              40              38       1  \n",
              "5              30              38       0  "
            ]
          },
          "execution_count": 60,
          "metadata": {},
          "output_type": "execute_result"
        }
      ],
      "source": [
        "from sklearn.preprocessing import LabelEncoder\n",
        "Labelenc_workclass = LabelEncoder()\n",
        "dados['workclass'] = Labelenc_workclass.fit_transform(dados['workclass'])\n",
        "Labelenc_education = LabelEncoder()\n",
        "dados['education'] = Labelenc_education.fit_transform(dados['education'])\n",
        "Labelenc_marital_status = LabelEncoder()\n",
        "dados['marital-status'] = Labelenc_marital_status.fit_transform(dados['marital-status'])\n",
        "Labelenc_occupation = LabelEncoder()\n",
        "dados['occupation'] = Labelenc_occupation.fit_transform(dados['occupation'])\n",
        "Labelenc_relationship = LabelEncoder()\n",
        "dados['relationship'] = Labelenc_relationship.fit_transform(dados['relationship'])\n",
        "Labelenc_race = LabelEncoder()\n",
        "dados['race'] = Labelenc_race.fit_transform(dados['race'])\n",
        "Labelenc_gender = LabelEncoder()\n",
        "dados['gender'] = Labelenc_gender.fit_transform(dados['gender'])\n",
        "Labelenc_native_country = LabelEncoder()\n",
        "dados['native-country'] = Labelenc_native_country.fit_transform(dados['native-country'])\n",
        "Labelenc_income = LabelEncoder()\n",
        "dados['income'] = Labelenc_income.fit_transform(dados['income'])\n",
        "dados.head()"
      ]
    },
    {
      "cell_type": "code",
      "execution_count": null,
      "metadata": {
        "colab": {
          "base_uri": "https://localhost:8080/",
          "height": 575
        },
        "id": "wwYqzZwZETcC",
        "outputId": "72532d4a-111d-4612-a565-63926a5a944b"
      },
      "outputs": [
        {
          "name": "stdout",
          "output_type": "stream",
          "text": [
            "              precision    recall  f1-score   support\n",
            "\n",
            "           0       0.88      0.93      0.91      6808\n",
            "           1       0.74      0.63      0.68      2237\n",
            "\n",
            "    accuracy                           0.85      9045\n",
            "   macro avg       0.81      0.78      0.79      9045\n",
            "weighted avg       0.85      0.85      0.85      9045\n",
            "\n"
          ]
        },
        {
          "data": {
            "image/png": "[encoded data removed]",
            "text/plain": [
              "<Figure size 576x432 with 2 Axes>"
            ]
          },
          "metadata": {},
          "output_type": "display_data"
        }
      ],
      "source": [
        "X = dados.drop(['income'],axis=1)\n",
        "y = dados['income']\n",
        "\n",
        "X_train, X_test, y_train, y_test = train_test_split(X, y, test_size = 0.20,\n",
        "                                                    random_state = 123)\n",
        "\n",
        "clf_random = RandomForestClassifier(random_state=0)\n",
        "clf_random.fit(X_train,y_train)\n",
        "y_pred=clf_random.predict(X_test)\n",
        "print(classification_report(y_test, y_pred))\n",
        "cm = confusion_matrix(y_test, y_pred)\n",
        "cm_df = pd.DataFrame(cm,index = ['<=50K', '>50K'], columns = ['<=50K', '>50K'])\n",
        "plt.figure(figsize=(8,6))\n",
        "sns.heatmap(cm_df, annot=True,fmt='g',cmap='Greys_r')\n",
        "plt.title('Random Forest \\nAccuracy:{0:.3f}'.format(accuracy_score(y_test,\n",
        "                                                                   y_pred)))\n",
        "plt.ylabel('Valores \"Verdadeiros\"')\n",
        "plt.xlabel('Valores Preditos')\n",
        "plt.show()"
      ]
    },
    {
      "cell_type": "markdown",
      "metadata": {
        "id": "OxDSraMVIBVZ"
      },
      "source": [
        "# Questão IX\n",
        "\n",
        "Tarefa para Casa: considerando-se a Tarefa viii avaliar o impacto de outros modelos inteligentes pertinentes na classificação da base desbalanceada utilizada anteriormente. Apresentar o código desenvolvido para cada modelo proposto e avaliar o impacto dos mesmos na classificação e evidentemente da base desbalanceada utilizada."
      ]
    },
    {
      "cell_type": "markdown",
      "metadata": {
        "id": "zA5ql2iPIqkT"
      },
      "source": [
        "## SVC"
      ]
    },
    {
      "cell_type": "code",
      "execution_count": null,
      "metadata": {
        "colab": {
          "base_uri": "https://localhost:8080/"
        },
        "id": "84UfjEdgIKdh",
        "outputId": "7ad686cd-5f29-48ea-84b6-f05f2a469329"
      },
      "outputs": [
        {
          "name": "stdout",
          "output_type": "stream",
          "text": [
            "Acurácia do Teste: 0.765\n",
            "\n",
            "Matriz de confusão para o Questão IX Modelo SVC\n",
            "Verdadeiro positivo:  6777 Falso negativo:      31\n",
            "Falso positivo:       2094 Verdadeiro negativo: 143\n",
            "\n",
            "Classification report para o Questão IX Modelo SVC\n",
            "              precision    recall  f1-score   support\n",
            "\n",
            "           0       0.76      1.00      0.86      6808\n",
            "           1       0.82      0.06      0.12      2237\n",
            "\n",
            "    accuracy                           0.77      9045\n",
            "   macro avg       0.79      0.53      0.49      9045\n",
            "weighted avg       0.78      0.77      0.68      9045\n",
            "\n"
          ]
        }
      ],
      "source": [
        "from sklearn.svm import SVC\n",
        "\n",
        "# criação de pipeline\n",
        "pipe_svc = make_pipeline(StandardScaler(), PCA(n_components = 2),\n",
        "                         SVC(C = 1, kernel = 'rbf', gamma = 0.001,\n",
        "                             cache_size = 500, random_state = 1))\n",
        "# Treinamento\n",
        "pipe_svc.fit(X_train, y_train)\n",
        "y_pred = pipe_svc.predict(X_test)\n",
        "\n",
        "print ('Acurácia do Teste: %.3f' %pipe_svc.score(X_test, y_test))\n",
        "\n",
        "print(\"\")\n",
        "printConfusionMatrix(y_true = y_test, y_pred = y_pred,\n",
        "                     model = \"Questão IX Modelo SVC\")\n",
        "print(\"\")\n",
        "printClassificationReport(y_true = y_test, y_pred = y_pred,\n",
        "                          model = \"Questão IX Modelo SVC\")"
      ]
    },
    {
      "cell_type": "markdown",
      "metadata": {
        "id": "grSrk0R_Jl1V"
      },
      "source": [
        "### Curva de aprendizado - *Learning Curve*\n",
        "\n",
        "https://scikit-learn.org/stable/modules/generated/sklearn.model_selection.learning_curve.html Determines cross-validated training and test scores for different training set sizes.\n",
        "\n",
        "A cross-validation generator splits the whole dataset k times in training and test data. Subsets of the training set with varying sizes will be used to train the estimator and a score for each training subset size and the test set will be computed. Afterwards, the scores will be averaged over all k runs for each training subset size."
      ]
    },
    {
      "cell_type": "code",
      "execution_count": null,
      "metadata": {
        "colab": {
          "base_uri": "https://localhost:8080/",
          "height": 352
        },
        "id": "zC33r6kKJl1V",
        "outputId": "1ddf3c68-2df8-4933-d61c-b5e9f734e41d"
      },
      "outputs": [
        {
          "name": "stderr",
          "output_type": "stream",
          "text": [
            "/usr/local/lib/python3.7/dist-packages/joblib/externals/loky/process_executor.py:705: UserWarning: A worker stopped while some jobs were given to the executor. This can be caused by a too short worker timeout or by a memory leak.\n",
            "  \"timeout or by a memory leak.\", UserWarning\n"
          ]
        },
        {
          "data": {
            "image/png": "[encoded data removed]",
            "text/plain": [
              "<Figure size 432x288 with 1 Axes>"
            ]
          },
          "metadata": {},
          "output_type": "display_data"
        }
      ],
      "source": [
        "from sklearn.model_selection import learning_curve\n",
        "\n",
        "train_sizes, train_scores, test_scores = \\\n",
        "    learning_curve(estimator = pipe_svc, X = X_train,\n",
        "                   y = y_train,\n",
        "                   train_sizes = np.linspace(0.1, 1.0, 5), cv = 5,\n",
        "                   n_jobs = -1)\n",
        "train_mean = np.mean(train_scores, axis=1)\n",
        "train_std = np.std(train_scores, axis=1)\n",
        "test_mean = np.mean(test_scores, axis=1)\n",
        "test_std = np.std(test_scores, axis=1)\n",
        "plt.plot(train_sizes, train_mean, color='blue', marker='o', markersize=5,\n",
        "         label='Accuracy do Treinanento')\n",
        "plt.fill_between(train_sizes, train_mean + train_std, train_mean - train_std,\n",
        "                 alpha=0.15, color='blue')\n",
        "\n",
        "plt.plot(train_sizes, test_mean, color='green', linestyle = '--', marker='s',\n",
        "         markersize = 5, label = 'Accuracy do Teste')\n",
        "# não estaria incorreto chamar de Accuracy da Validação, do ponto de vista de\n",
        "# Instrumentação\n",
        "plt.fill_between(train_sizes, test_mean + test_std, test_mean - test_std,\n",
        "                 alpha = 0.15, color = 'green')\n",
        "plt.grid()\n",
        "plt.xlabel('Número de Dados')\n",
        "plt.ylabel('Accuracy')\n",
        "plt.legend(loc='lower right')\n",
        "plt.ylim([0.7, 0.8])\n",
        "plt.tight_layout()\n",
        "plt.show()"
      ]
    },
    {
      "cell_type": "markdown",
      "metadata": {
        "id": "zsm0-okgKcBJ"
      },
      "source": [
        "### GridSearch"
      ]
    },
    {
      "cell_type": "code",
      "execution_count": null,
      "metadata": {
        "colab": {
          "base_uri": "https://localhost:8080/",
          "height": 236
        },
        "id": "OyPYeaV_KcBP",
        "outputId": "6c3fc310-6651-47ac-c800-484431424ca3"
      },
      "outputs": [
        {
          "ename": "NameError",
          "evalue": "ignored",
          "output_type": "error",
          "traceback": [
            "\u001b[0;31m---------------------------------------------------------------------------\u001b[0m",
            "\u001b[0;31mNameError\u001b[0m                                 Traceback (most recent call last)",
            "\u001b[0;32m<ipython-input-1-feb4bcbcd3df>\u001b[0m in \u001b[0;36m<module>\u001b[0;34m()\u001b[0m\n\u001b[1;32m      9\u001b[0m               {'svc__C': param_C_range, 'svc__gamma': param_gamma_range,\n\u001b[1;32m     10\u001b[0m                'svc__kernel': ['rbf']}]\n\u001b[0;32m---> 11\u001b[0;31m gs = GridSearchCV(estimator = pipe_svc, param_grid = param_grid,\n\u001b[0m\u001b[1;32m     12\u001b[0m                   scoring = 'accuracy', refit = True, cv = 5, n_jobs = -1)\n\u001b[1;32m     13\u001b[0m \u001b[0mgs\u001b[0m \u001b[0;34m=\u001b[0m \u001b[0mgs\u001b[0m\u001b[0;34m.\u001b[0m\u001b[0mfit\u001b[0m\u001b[0;34m(\u001b[0m\u001b[0mX_train\u001b[0m\u001b[0;34m,\u001b[0m \u001b[0my_train\u001b[0m\u001b[0;34m)\u001b[0m\u001b[0;34m\u001b[0m\u001b[0;34m\u001b[0m\u001b[0m\n",
            "\u001b[0;31mNameError\u001b[0m: name 'pipe_svc' is not defined"
          ]
        }
      ],
      "source": [
        "from sklearn.model_selection import GridSearchCV # RandomizedSearchCV\n",
        "\n",
        "# param_C_range = [0.01, 0.1, 1.0, 10.0, 100.0, 1000.0]\n",
        "# param_gamma_range = [0.0001, 0.001, 0.01, 0.1, 1.0]\n",
        "param_C_range = [0.1, 1, 10]\n",
        "param_gamma_range = [0.01, 0.1, 1.0]\n",
        "param_grid = [\n",
        "              # {'svc__C': param_C_range, 'svc__kernel': ['linear']},+6194\n",
        "              {'svc__C': param_C_range, 'svc__gamma': param_gamma_range,\n",
        "               'svc__kernel': ['rbf']}]\n",
        "gs = GridSearchCV(estimator = pipe_svc, param_grid = param_grid,\n",
        "                  scoring = 'accuracy', refit = True, cv = 5, n_jobs = -1)\n",
        "gs = gs.fit(X_train, y_train)\n",
        "print(gs.best_score_)\n",
        "print(gs.best_params_)\n",
        "clf = gs.best_estimator_\n",
        "print('Accuracy do Teste: %.3f' %clf.score(X_test, y_test))"
      ]
    },
    {
      "cell_type": "code",
      "execution_count": null,
      "metadata": {
        "colab": {
          "base_uri": "https://localhost:8080/"
        },
        "id": "wudGGxvdKcBT",
        "outputId": "ba2d217b-b161-47b5-d1e8-fbb026202790"
      },
      "outputs": [
        {
          "name": "stdout",
          "output_type": "stream",
          "text": [
            "Acurácia do Teste: 0.965\n",
            "\n",
            "Matriz de confusão para o Modelo SVC Otimizado\n",
            "Verdadeiro positivo:  71 Falso negativo:      1\n",
            "Falso positivo:       3 Verdadeiro negativo: 39\n",
            "\n",
            "Classification report para o Modelo SVC Otimizado\n",
            "              precision    recall  f1-score   support\n",
            "\n",
            "           0       0.96      0.99      0.97        72\n",
            "           1       0.97      0.93      0.95        42\n",
            "\n",
            "    accuracy                           0.96       114\n",
            "   macro avg       0.97      0.96      0.96       114\n",
            "weighted avg       0.97      0.96      0.96       114\n",
            "\n"
          ]
        }
      ],
      "source": [
        "from sklearn.svm import SVC\n",
        "\n",
        "# criação de pipeline\n",
        "pipe_svc_otimizada = make_pipeline(StandardScaler(), PCA(n_components = 2),\n",
        "                         SVC(C = 100, kernel = 'rbf', gamma = 0.001,\n",
        "                             cache_size = 500, random_state = 1))\n",
        "# Treinamento\n",
        "pipe_svc_otimizada.fit(X_train, y_train)\n",
        "y_pred = pipe_svc_otimizada.predict(X_test)\n",
        "\n",
        "print ('Acurácia do Teste: %.3f' %pipe_svc_otimizada.score(X_test, y_test))\n",
        "\n",
        "print(\"\")\n",
        "printConfusionMatrix(y_true = y_test, y_pred = y_pred,\n",
        "                     model = \"Questão IX Modelo SVC Otimizado\")\n",
        "print(\"\")\n",
        "printClassificationReport(y_true = y_test, y_pred = y_pred,\n",
        "                          model = \"Questão IX Modelo SVC Otimizado\")"
      ]
    },
    {
      "cell_type": "markdown",
      "metadata": {
        "id": "B0HWuwddISSM"
      },
      "source": [
        "# Queestão X\n",
        "\n",
        "Tarefa para Casa: outra abordagem bem interessante para lidar com um conjunto de\n",
        "dados desbalanceado é atribuir uma penalidade a cada previsão errada sobre a classe minoritária. Isso pode ser feito usando, por exemplo, um parâmetro peso disponível no scikit-learn (class_weight) que permite atribuir uma penalidade para cada previsão errada relacionada a classe minoritária. Avaliar e discutir esta abordagem no classificador proposto na Tarefa viii. Sugiro consultar e pesquisar sobre."
      ]
    },
    {
      "cell_type": "code",
      "execution_count": null,
      "metadata": {
        "id": "cx3SpMolIZ4C"
      },
      "outputs": [],
      "source": [
        ""
      ]
    },
    {
      "cell_type": "markdown",
      "metadata": {
        "id": "4Yq21m_n34SP"
      },
      "source": [
        "# Imports e constantes"
      ]
    },
    {
      "cell_type": "code",
      "execution_count": null,
      "metadata": {
        "colab": {
          "base_uri": "https://localhost:8080/"
        },
        "id": "5lCMSYfv3uVR",
        "outputId": "8903dbb1-2ab6-445c-d5de-da6c30e3ca46"
      },
      "outputs": [
        {
          "data": {
            "text/plain": [
              "0.417022004702574"
            ]
          },
          "execution_count": 25,
          "metadata": {},
          "output_type": "execute_result"
        }
      ],
      "source": [
        "%matplotlib inline\n",
        "import numpy as np\n",
        "from numpy.random import seed \n",
        "import os\n",
        "import pandas as pd\n",
        "from PIL import Image\n",
        "import random   as rn\n",
        "import matplotlib\n",
        "import matplotlib.pyplot as plt\n",
        "from sklearn.metrics import confusion_matrix, classification_report\n",
        "from sklearn.model_selection import train_test_split\n",
        "\n",
        "import tensorflow as tf\n",
        "from tensorflow import keras\n",
        "from tensorflow.keras import layers\n",
        "from keras import metrics\n",
        "from keras.callbacks import Callback\n",
        "from keras import backend as K\n",
        "\n",
        "# import scikitplot\n",
        "# from scikitplot.metrics import plot_confusion_matrix, plot_roc\n",
        "\n",
        "IMG_SIZE          = 24\n",
        "IMG_NUMBER_PIXELS = IMG_SIZE * IMG_SIZE\n",
        "LEFT              = 0\n",
        "RIGHT             = 1\n",
        "CLOSED            = 0\n",
        "OPEN              = 1\n",
        "\n",
        "# Trava SEED usando session Keras (metodo recomendado para travar gerador NVIDEA\n",
        "#  distribuído)\n",
        "SEED = 1 \n",
        "session_conf = tf.compat.v1.ConfigProto(intra_op_parallelism_threads=1,\n",
        "                                        inter_op_parallelism_threads=1)\n",
        "tf.compat.v1.set_random_seed(SEED)\n",
        "tf.random.set_seed(SEED)\n",
        "session = tf.compat.v1.Session(graph = tf.compat.v1.get_default_graph(),\n",
        "                            config=session_conf)\n",
        "K.set_session(session)\n",
        "os.environ['PYTHONHASHSEED'] = '0'\n",
        "np.random.seed(SEED)\n",
        "rn.seed(SEED)\n",
        "\n",
        "np.random.rand() # 0.417022004702574"
      ]
    },
    {
      "cell_type": "code",
      "execution_count": null,
      "metadata": {
        "colab": {
          "base_uri": "https://localhost:8080/"
        },
        "id": "f_YYgmevqmQR",
        "outputId": "bab56228-d224-4c78-f005-f9b06bc7d11e"
      },
      "outputs": [
        {
          "data": {
            "text/plain": [
              "0.7203244934421581"
            ]
          },
          "execution_count": 26,
          "metadata": {},
          "output_type": "execute_result"
        }
      ],
      "source": [
        "np.random.rand() # 0.7203244934421581"
      ]
    },
    {
      "cell_type": "markdown",
      "metadata": {
        "id": "sI-tL4qABF-i"
      },
      "source": [
        "# Seleção de trechos a serem executados e path para exportação de figuras e Tabelas TEX"
      ]
    },
    {
      "cell_type": "code",
      "execution_count": null,
      "metadata": {
        "id": "WtJxnPDLBE37"
      },
      "outputs": [],
      "source": [
        "flagGeraDataset   = 0\n",
        "flagDadosCNN      = 1\n",
        "\n",
        "# Parâmetros para exportação de Figuras\n",
        "flagSaveFig       = 1\n",
        "pathFig = path + '/fig/'\n",
        "\n",
        "# Parâmetros para exportação de tabelas LaTeX\n",
        "pathTab = path + '/tab/'"
      ]
    },
    {
      "cell_type": "markdown",
      "metadata": {
        "id": "ZYHdZXH8Cqic"
      },
      "source": [
        "# Preparação dos dados"
      ]
    },
    {
      "cell_type": "markdown",
      "metadata": {
        "id": "E30PPOYg3-Hi"
      },
      "source": [
        "## Leitura dos dados e geração do dataset"
      ]
    },
    {
      "cell_type": "code",
      "execution_count": null,
      "metadata": {
        "id": "VUd5KB7H-fo3"
      },
      "outputs": [],
      "source": [
        "#\n",
        "  # im = Image.open(path + \"/dataset_B_Eye_Images\" + \"/closedRightEyes\" + \"/closed_eye_2699.jpg_face_1_R.jpg\")\n",
        "  #  im = Image.open(\"test.bmp\")  # (\"Image10.bmp\").convert(\"RGB\")\n",
        "  # mat_pixels = im.load()\n",
        "  # pixels = np.asarray(im.getdata())\n",
        "  # print(pixels)\n",
        "  # npixels = pixels.shape\n",
        "  # pixels.shape\n",
        "  # print(f\"npixels {npixels}\")\n",
        "if (flagGeraDataset):\n",
        "  # Path \n",
        "  relativePath = \"/dataset_B_Eye_Images/\"\n",
        "  pathClosedLeftEyesFolder  = \"closedLeftEyes\" \n",
        "  pathClosedRightEyesFolder = \"closedRightEyes\" \n",
        "  pathOpenLeftEyesFolder    = \"openLeftEyes\" \n",
        "  pathOpenRightEyesFolder   = \"openRightEyes\"\n",
        "\n",
        "  # Create DataFrame\n",
        "  #  Column 0: imagePath (Folder + '/' + image name)\n",
        "  #  Column 1:  Eye (Left = 0 | Right = 1)\n",
        "  #  Column 2:  State (Closed = 0 | Open = 1)\n",
        "  #  Column 3 + 579 | pixels (0: 575)\n",
        "  dataFrameColumns = [\"imageRelativePath\", \"Eye\", \"State\"]\n",
        "  for i in range(IMG_NUMBER_PIXELS):\n",
        "    dataFrameColumns.append(\"Pixel\" + str(i))\n",
        "  df = pd.DataFrame(columns = [dataFrameColumns])\n",
        "\n",
        "  pd.options.display.max_columns = 7\n",
        "  # print(\"df.head()\")\n",
        "\n",
        "  # List all files in a directory using os.listdir\n",
        "  filesName = []\n",
        "  numberOfFiles = 0\n",
        "\n",
        "  # Closed Left Eye Images\n",
        "  #  Column 1:  Eye (Left = 0)\n",
        "  #  Column 2:  State (Closed = 0)\n",
        "  basePath = path + relativePath + pathClosedLeftEyesFolder\n",
        "  imageRelativePath = pathClosedLeftEyesFolder\n",
        "  for entry in os.listdir(basePath):\n",
        "    if os.path.isfile(os.path.join(basePath, entry)):\n",
        "      filesName.append(entry)\n",
        "      numberOfFiles += 1\n",
        "      # print(entry)\n",
        "      im = Image.open(basePath + \"/\" + entry)\n",
        "      pixels = np.asarray(im.getdata())\n",
        "\n",
        "      #add row to end of DataFrame\n",
        "      rowToAppend = np.append(np.array([(imageRelativePath + \"/\" + entry), LEFT,\n",
        "                                        CLOSED]),\n",
        "                              pixels)\n",
        "      # print(rowToAppend)\n",
        "      df = df.append(pd.DataFrame(columns=df.columns, data=[rowToAppend]),\n",
        "                    ignore_index = True)\n",
        "\n",
        "  # Closed Right Eye Images\n",
        "  #  Column 1:  Eye (Right = 1)\n",
        "  #  Column 2:  State (Closed = 0)\n",
        "  basePath = path + relativePath + pathClosedRightEyesFolder\n",
        "  imageRelativePath = pathClosedRightEyesFolder\n",
        "  for entry in os.listdir(basePath):\n",
        "    if os.path.isfile(os.path.join(basePath, entry)):\n",
        "      filesName.append(entry)\n",
        "      numberOfFiles += 1\n",
        "      # print(entry)\n",
        "      im = Image.open(basePath + \"/\" + entry)\n",
        "      pixels = np.asarray(im.getdata())\n",
        "\n",
        "      #add row to end of DataFrame\n",
        "      rowToAppend = np.append(np.array([(imageRelativePath + \"/\" + entry),\n",
        "                                        RIGHT, CLOSED]),\n",
        "                              pixels)\n",
        "      # print(rowToAppend)\n",
        "      df = df.append(pd.DataFrame(columns=df.columns, data=[rowToAppend]),\n",
        "                    ignore_index = True)\n",
        "\n",
        "  # Open Left Eye Images\n",
        "  #  Column 1:  Eye (Left = 0)\n",
        "  #  Column 2:  State (Open = 1)\n",
        "  basePath = path + relativePath + pathOpenLeftEyesFolder\n",
        "  imageRelativePath = pathOpenLeftEyesFolder\n",
        "  for entry in os.listdir(basePath):\n",
        "    if os.path.isfile(os.path.join(basePath, entry)):\n",
        "      filesName.append(entry)\n",
        "      numberOfFiles += 1\n",
        "      # print(entry)\n",
        "      im = Image.open(basePath + \"/\" + entry)\n",
        "      pixels = np.asarray(im.getdata())\n",
        "\n",
        "      #add row to end of DataFrame\n",
        "      rowToAppend = np.append(np.array([(imageRelativePath + \"/\" + entry), LEFT,\n",
        "                                        OPEN]),\n",
        "                              pixels)\n",
        "      # print(rowToAppend)\n",
        "      df = df.append(pd.DataFrame(columns=df.columns, data=[rowToAppend]),\n",
        "                    ignore_index = True)\n",
        "\n",
        "  # Open Right Eye Images\n",
        "  #  Column 1:  Eye (Right = 1)\n",
        "  #  Column 2:  State (Open = 1)\n",
        "  basePath = path + relativePath + pathOpenRightEyesFolder\n",
        "  imageRelativePath = pathOpenRightEyesFolder\n",
        "  for entry in os.listdir(basePath):\n",
        "    if os.path.isfile(os.path.join(basePath, entry)):\n",
        "      filesName.append(entry)\n",
        "      numberOfFiles += 1\n",
        "      # print(entry)\n",
        "      im = Image.open(basePath + \"/\" + entry)\n",
        "      pixels = np.asarray(im.getdata())\n",
        "\n",
        "      #add row to end of DataFrame\n",
        "      rowToAppend = np.append(np.array([(imageRelativePath + \"/\" + entry),\n",
        "                                        RIGHT, OPEN]),\n",
        "                              pixels)\n",
        "      # print(rowToAppend)\n",
        "      df = df.append(pd.DataFrame(columns=df.columns, data=[rowToAppend]),\n",
        "                    ignore_index = True)\n",
        "\n",
        "  print(f'Number of Files is {numberOfFiles}')\n",
        "  pd.options.display.max_columns = 7\n",
        "  df.head(5)\n",
        "  print(f\"df.dtypes:\\n{df.dtypes}\")\n",
        "\n",
        "  df.to_csv(path + '/dataset_CEW.csv')\n",
        "\n",
        "  #\n",
        "  # print(f'Number of Files is {numberOfFiles}')\n",
        "  # df.head(5)\n",
        "\n",
        "  # # imagePath (Folder + image name) | Eye (Left = 0 / Right = 1) | State (Open = 1 | Closed = 0) | pixels (0: 575)\n",
        "\n",
        "\n",
        "  # # # Mode: https://pillow.readthedocs.io/en/stable/handbook/concepts.html#modes\n",
        "  # # #\n",
        "  # # # The mode of an image is a string which defines the type and depth of a pixel\n",
        "  # # #  in the image. Each pixel uses the full range of the bit depth. So a 1-bit\n",
        "  # # #  pixel has a range of 0-1, an 8-bit pixel has a range of 0-255 and so on.\n",
        "  # # #  The current release supports the following standard modes:\n",
        "  # # print(im.format, im.size, im.mode)\n",
        "  # # # JPEG (24, 24) L: (8-bit pixels, black and white)\n",
        "\n",
        "  # # # charger en mémoire les pixels de l'image\n",
        "  # # w, h = im.size\n",
        "  # # # soit w et h,  respectivement, la largeur et la hauteur de l’image\n",
        "  # # # display width and height\n",
        "  # # print(\"The height of the image /is: \", h)\n",
        "  # # print(\"The width of the image is: \", w)"
      ]
    },
    {
      "cell_type": "markdown",
      "metadata": {
        "id": "Q8c7o7Y08NAs"
      },
      "source": [
        "## Recarregamento do dataset"
      ]
    },
    {
      "cell_type": "code",
      "execution_count": null,
      "metadata": {
        "colab": {
          "base_uri": "https://localhost:8080/",
          "height": 416
        },
        "id": "G5_6vHqa_Pqy",
        "outputId": "bfedaacf-fe21-4de2-ef05-ff4232f62c00"
      },
      "outputs": [
        {
          "ename": "FileNotFoundError",
          "evalue": "ignored",
          "output_type": "error",
          "traceback": [
            "\u001b[0;31m---------------------------------------------------------------------------\u001b[0m",
            "\u001b[0;31mFileNotFoundError\u001b[0m                         Traceback (most recent call last)",
            "\u001b[0;32m<ipython-input-29-f1dc31ca6097>\u001b[0m in \u001b[0;36m<module>\u001b[0;34m()\u001b[0m\n\u001b[1;32m      1\u001b[0m \u001b[0;31m# load the new dataset and summarize\u001b[0m\u001b[0;34m\u001b[0m\u001b[0;34m\u001b[0m\u001b[0;34m\u001b[0m\u001b[0m\n\u001b[0;32m----> 2\u001b[0;31m \u001b[0mloadedDataset\u001b[0m \u001b[0;34m=\u001b[0m \u001b[0mpd\u001b[0m\u001b[0;34m.\u001b[0m\u001b[0mread_csv\u001b[0m\u001b[0;34m(\u001b[0m\u001b[0mpath\u001b[0m \u001b[0;34m+\u001b[0m \u001b[0;34m'/dataset_CEW.csv'\u001b[0m\u001b[0;34m,\u001b[0m \u001b[0mheader\u001b[0m\u001b[0;34m=\u001b[0m\u001b[0;36m0\u001b[0m\u001b[0;34m)\u001b[0m\u001b[0;34m\u001b[0m\u001b[0;34m\u001b[0m\u001b[0m\n\u001b[0m\u001b[1;32m      3\u001b[0m \u001b[0mprint\u001b[0m\u001b[0;34m(\u001b[0m\u001b[0;34mf\"dataset.head(): \\n{loadedDataset.head()}\"\u001b[0m\u001b[0;34m)\u001b[0m\u001b[0;34m\u001b[0m\u001b[0;34m\u001b[0m\u001b[0m\n\u001b[1;32m      4\u001b[0m \u001b[0mprint\u001b[0m\u001b[0;34m(\u001b[0m\u001b[0;34mf\"dataset.dtypes:\\n{loadedDataset.dtypes}\"\u001b[0m\u001b[0;34m)\u001b[0m\u001b[0;34m\u001b[0m\u001b[0;34m\u001b[0m\u001b[0m\n\u001b[1;32m      5\u001b[0m \u001b[0mloadedDataset\u001b[0m\u001b[0;34m.\u001b[0m\u001b[0mdescribe\u001b[0m\u001b[0;34m(\u001b[0m\u001b[0;34m)\u001b[0m\u001b[0;34m\u001b[0m\u001b[0;34m\u001b[0m\u001b[0m\n",
            "\u001b[0;32m/usr/local/lib/python3.7/dist-packages/pandas/util/_decorators.py\u001b[0m in \u001b[0;36mwrapper\u001b[0;34m(*args, **kwargs)\u001b[0m\n\u001b[1;32m    309\u001b[0m                     \u001b[0mstacklevel\u001b[0m\u001b[0;34m=\u001b[0m\u001b[0mstacklevel\u001b[0m\u001b[0;34m,\u001b[0m\u001b[0;34m\u001b[0m\u001b[0;34m\u001b[0m\u001b[0m\n\u001b[1;32m    310\u001b[0m                 )\n\u001b[0;32m--> 311\u001b[0;31m             \u001b[0;32mreturn\u001b[0m \u001b[0mfunc\u001b[0m\u001b[0;34m(\u001b[0m\u001b[0;34m*\u001b[0m\u001b[0margs\u001b[0m\u001b[0;34m,\u001b[0m \u001b[0;34m**\u001b[0m\u001b[0mkwargs\u001b[0m\u001b[0;34m)\u001b[0m\u001b[0;34m\u001b[0m\u001b[0;34m\u001b[0m\u001b[0m\n\u001b[0m\u001b[1;32m    312\u001b[0m \u001b[0;34m\u001b[0m\u001b[0m\n\u001b[1;32m    313\u001b[0m         \u001b[0;32mreturn\u001b[0m \u001b[0mwrapper\u001b[0m\u001b[0;34m\u001b[0m\u001b[0;34m\u001b[0m\u001b[0m\n",
            "\u001b[0;32m/usr/local/lib/python3.7/dist-packages/pandas/io/parsers/readers.py\u001b[0m in \u001b[0;36mread_csv\u001b[0;34m(filepath_or_buffer, sep, delimiter, header, names, index_col, usecols, squeeze, prefix, mangle_dupe_cols, dtype, engine, converters, true_values, false_values, skipinitialspace, skiprows, skipfooter, nrows, na_values, keep_default_na, na_filter, verbose, skip_blank_lines, parse_dates, infer_datetime_format, keep_date_col, date_parser, dayfirst, cache_dates, iterator, chunksize, compression, thousands, decimal, lineterminator, quotechar, quoting, doublequote, escapechar, comment, encoding, encoding_errors, dialect, error_bad_lines, warn_bad_lines, on_bad_lines, delim_whitespace, low_memory, memory_map, float_precision, storage_options)\u001b[0m\n\u001b[1;32m    584\u001b[0m     \u001b[0mkwds\u001b[0m\u001b[0;34m.\u001b[0m\u001b[0mupdate\u001b[0m\u001b[0;34m(\u001b[0m\u001b[0mkwds_defaults\u001b[0m\u001b[0;34m)\u001b[0m\u001b[0;34m\u001b[0m\u001b[0;34m\u001b[0m\u001b[0m\n\u001b[1;32m    585\u001b[0m \u001b[0;34m\u001b[0m\u001b[0m\n\u001b[0;32m--> 586\u001b[0;31m     \u001b[0;32mreturn\u001b[0m \u001b[0m_read\u001b[0m\u001b[0;34m(\u001b[0m\u001b[0mfilepath_or_buffer\u001b[0m\u001b[0;34m,\u001b[0m \u001b[0mkwds\u001b[0m\u001b[0;34m)\u001b[0m\u001b[0;34m\u001b[0m\u001b[0;34m\u001b[0m\u001b[0m\n\u001b[0m\u001b[1;32m    587\u001b[0m \u001b[0;34m\u001b[0m\u001b[0m\n\u001b[1;32m    588\u001b[0m \u001b[0;34m\u001b[0m\u001b[0m\n",
            "\u001b[0;32m/usr/local/lib/python3.7/dist-packages/pandas/io/parsers/readers.py\u001b[0m in \u001b[0;36m_read\u001b[0;34m(filepath_or_buffer, kwds)\u001b[0m\n\u001b[1;32m    480\u001b[0m \u001b[0;34m\u001b[0m\u001b[0m\n\u001b[1;32m    481\u001b[0m     \u001b[0;31m# Create the parser.\u001b[0m\u001b[0;34m\u001b[0m\u001b[0;34m\u001b[0m\u001b[0;34m\u001b[0m\u001b[0m\n\u001b[0;32m--> 482\u001b[0;31m     \u001b[0mparser\u001b[0m \u001b[0;34m=\u001b[0m \u001b[0mTextFileReader\u001b[0m\u001b[0;34m(\u001b[0m\u001b[0mfilepath_or_buffer\u001b[0m\u001b[0;34m,\u001b[0m \u001b[0;34m**\u001b[0m\u001b[0mkwds\u001b[0m\u001b[0;34m)\u001b[0m\u001b[0;34m\u001b[0m\u001b[0;34m\u001b[0m\u001b[0m\n\u001b[0m\u001b[1;32m    483\u001b[0m \u001b[0;34m\u001b[0m\u001b[0m\n\u001b[1;32m    484\u001b[0m     \u001b[0;32mif\u001b[0m \u001b[0mchunksize\u001b[0m \u001b[0;32mor\u001b[0m \u001b[0miterator\u001b[0m\u001b[0;34m:\u001b[0m\u001b[0;34m\u001b[0m\u001b[0;34m\u001b[0m\u001b[0m\n",
            "\u001b[0;32m/usr/local/lib/python3.7/dist-packages/pandas/io/parsers/readers.py\u001b[0m in \u001b[0;36m__init__\u001b[0;34m(self, f, engine, **kwds)\u001b[0m\n\u001b[1;32m    809\u001b[0m             \u001b[0mself\u001b[0m\u001b[0;34m.\u001b[0m\u001b[0moptions\u001b[0m\u001b[0;34m[\u001b[0m\u001b[0;34m\"has_index_names\"\u001b[0m\u001b[0;34m]\u001b[0m \u001b[0;34m=\u001b[0m \u001b[0mkwds\u001b[0m\u001b[0;34m[\u001b[0m\u001b[0;34m\"has_index_names\"\u001b[0m\u001b[0;34m]\u001b[0m\u001b[0;34m\u001b[0m\u001b[0;34m\u001b[0m\u001b[0m\n\u001b[1;32m    810\u001b[0m \u001b[0;34m\u001b[0m\u001b[0m\n\u001b[0;32m--> 811\u001b[0;31m         \u001b[0mself\u001b[0m\u001b[0;34m.\u001b[0m\u001b[0m_engine\u001b[0m \u001b[0;34m=\u001b[0m \u001b[0mself\u001b[0m\u001b[0;34m.\u001b[0m\u001b[0m_make_engine\u001b[0m\u001b[0;34m(\u001b[0m\u001b[0mself\u001b[0m\u001b[0;34m.\u001b[0m\u001b[0mengine\u001b[0m\u001b[0;34m)\u001b[0m\u001b[0;34m\u001b[0m\u001b[0;34m\u001b[0m\u001b[0m\n\u001b[0m\u001b[1;32m    812\u001b[0m \u001b[0;34m\u001b[0m\u001b[0m\n\u001b[1;32m    813\u001b[0m     \u001b[0;32mdef\u001b[0m \u001b[0mclose\u001b[0m\u001b[0;34m(\u001b[0m\u001b[0mself\u001b[0m\u001b[0;34m)\u001b[0m\u001b[0;34m:\u001b[0m\u001b[0;34m\u001b[0m\u001b[0;34m\u001b[0m\u001b[0m\n",
            "\u001b[0;32m/usr/local/lib/python3.7/dist-packages/pandas/io/parsers/readers.py\u001b[0m in \u001b[0;36m_make_engine\u001b[0;34m(self, engine)\u001b[0m\n\u001b[1;32m   1038\u001b[0m             )\n\u001b[1;32m   1039\u001b[0m         \u001b[0;31m# error: Too many arguments for \"ParserBase\"\u001b[0m\u001b[0;34m\u001b[0m\u001b[0;34m\u001b[0m\u001b[0;34m\u001b[0m\u001b[0m\n\u001b[0;32m-> 1040\u001b[0;31m         \u001b[0;32mreturn\u001b[0m \u001b[0mmapping\u001b[0m\u001b[0;34m[\u001b[0m\u001b[0mengine\u001b[0m\u001b[0;34m]\u001b[0m\u001b[0;34m(\u001b[0m\u001b[0mself\u001b[0m\u001b[0;34m.\u001b[0m\u001b[0mf\u001b[0m\u001b[0;34m,\u001b[0m \u001b[0;34m**\u001b[0m\u001b[0mself\u001b[0m\u001b[0;34m.\u001b[0m\u001b[0moptions\u001b[0m\u001b[0;34m)\u001b[0m  \u001b[0;31m# type: ignore[call-arg]\u001b[0m\u001b[0;34m\u001b[0m\u001b[0;34m\u001b[0m\u001b[0m\n\u001b[0m\u001b[1;32m   1041\u001b[0m \u001b[0;34m\u001b[0m\u001b[0m\n\u001b[1;32m   1042\u001b[0m     \u001b[0;32mdef\u001b[0m \u001b[0m_failover_to_python\u001b[0m\u001b[0;34m(\u001b[0m\u001b[0mself\u001b[0m\u001b[0;34m)\u001b[0m\u001b[0;34m:\u001b[0m\u001b[0;34m\u001b[0m\u001b[0;34m\u001b[0m\u001b[0m\n",
            "\u001b[0;32m/usr/local/lib/python3.7/dist-packages/pandas/io/parsers/c_parser_wrapper.py\u001b[0m in \u001b[0;36m__init__\u001b[0;34m(self, src, **kwds)\u001b[0m\n\u001b[1;32m     49\u001b[0m \u001b[0;34m\u001b[0m\u001b[0m\n\u001b[1;32m     50\u001b[0m         \u001b[0;31m# open handles\u001b[0m\u001b[0;34m\u001b[0m\u001b[0;34m\u001b[0m\u001b[0;34m\u001b[0m\u001b[0m\n\u001b[0;32m---> 51\u001b[0;31m         \u001b[0mself\u001b[0m\u001b[0;34m.\u001b[0m\u001b[0m_open_handles\u001b[0m\u001b[0;34m(\u001b[0m\u001b[0msrc\u001b[0m\u001b[0;34m,\u001b[0m \u001b[0mkwds\u001b[0m\u001b[0;34m)\u001b[0m\u001b[0;34m\u001b[0m\u001b[0;34m\u001b[0m\u001b[0m\n\u001b[0m\u001b[1;32m     52\u001b[0m         \u001b[0;32massert\u001b[0m \u001b[0mself\u001b[0m\u001b[0;34m.\u001b[0m\u001b[0mhandles\u001b[0m \u001b[0;32mis\u001b[0m \u001b[0;32mnot\u001b[0m \u001b[0;32mNone\u001b[0m\u001b[0;34m\u001b[0m\u001b[0;34m\u001b[0m\u001b[0m\n\u001b[1;32m     53\u001b[0m \u001b[0;34m\u001b[0m\u001b[0m\n",
            "\u001b[0;32m/usr/local/lib/python3.7/dist-packages/pandas/io/parsers/base_parser.py\u001b[0m in \u001b[0;36m_open_handles\u001b[0;34m(self, src, kwds)\u001b[0m\n\u001b[1;32m    227\u001b[0m             \u001b[0mmemory_map\u001b[0m\u001b[0;34m=\u001b[0m\u001b[0mkwds\u001b[0m\u001b[0;34m.\u001b[0m\u001b[0mget\u001b[0m\u001b[0;34m(\u001b[0m\u001b[0;34m\"memory_map\"\u001b[0m\u001b[0;34m,\u001b[0m \u001b[0;32mFalse\u001b[0m\u001b[0;34m)\u001b[0m\u001b[0;34m,\u001b[0m\u001b[0;34m\u001b[0m\u001b[0;34m\u001b[0m\u001b[0m\n\u001b[1;32m    228\u001b[0m             \u001b[0mstorage_options\u001b[0m\u001b[0;34m=\u001b[0m\u001b[0mkwds\u001b[0m\u001b[0;34m.\u001b[0m\u001b[0mget\u001b[0m\u001b[0;34m(\u001b[0m\u001b[0;34m\"storage_options\"\u001b[0m\u001b[0;34m,\u001b[0m \u001b[0;32mNone\u001b[0m\u001b[0;34m)\u001b[0m\u001b[0;34m,\u001b[0m\u001b[0;34m\u001b[0m\u001b[0;34m\u001b[0m\u001b[0m\n\u001b[0;32m--> 229\u001b[0;31m             \u001b[0merrors\u001b[0m\u001b[0;34m=\u001b[0m\u001b[0mkwds\u001b[0m\u001b[0;34m.\u001b[0m\u001b[0mget\u001b[0m\u001b[0;34m(\u001b[0m\u001b[0;34m\"encoding_errors\"\u001b[0m\u001b[0;34m,\u001b[0m \u001b[0;34m\"strict\"\u001b[0m\u001b[0;34m)\u001b[0m\u001b[0;34m,\u001b[0m\u001b[0;34m\u001b[0m\u001b[0;34m\u001b[0m\u001b[0m\n\u001b[0m\u001b[1;32m    230\u001b[0m         )\n\u001b[1;32m    231\u001b[0m \u001b[0;34m\u001b[0m\u001b[0m\n",
            "\u001b[0;32m/usr/local/lib/python3.7/dist-packages/pandas/io/common.py\u001b[0m in \u001b[0;36mget_handle\u001b[0;34m(path_or_buf, mode, encoding, compression, memory_map, is_text, errors, storage_options)\u001b[0m\n\u001b[1;32m    705\u001b[0m                 \u001b[0mencoding\u001b[0m\u001b[0;34m=\u001b[0m\u001b[0mioargs\u001b[0m\u001b[0;34m.\u001b[0m\u001b[0mencoding\u001b[0m\u001b[0;34m,\u001b[0m\u001b[0;34m\u001b[0m\u001b[0;34m\u001b[0m\u001b[0m\n\u001b[1;32m    706\u001b[0m                 \u001b[0merrors\u001b[0m\u001b[0;34m=\u001b[0m\u001b[0merrors\u001b[0m\u001b[0;34m,\u001b[0m\u001b[0;34m\u001b[0m\u001b[0;34m\u001b[0m\u001b[0m\n\u001b[0;32m--> 707\u001b[0;31m                 \u001b[0mnewline\u001b[0m\u001b[0;34m=\u001b[0m\u001b[0;34m\"\"\u001b[0m\u001b[0;34m,\u001b[0m\u001b[0;34m\u001b[0m\u001b[0;34m\u001b[0m\u001b[0m\n\u001b[0m\u001b[1;32m    708\u001b[0m             )\n\u001b[1;32m    709\u001b[0m         \u001b[0;32melse\u001b[0m\u001b[0;34m:\u001b[0m\u001b[0;34m\u001b[0m\u001b[0;34m\u001b[0m\u001b[0m\n",
            "\u001b[0;31mFileNotFoundError\u001b[0m: [Errno 2] No such file or directory: '/content/drive/MyDrive/Colab Notebooks/UFRGS/ENG4026 - Tópicos Especiais em Instrumentação II/dataset_CEW.csv'"
          ]
        }
      ],
      "source": [
        "# load the new dataset and summarize\n",
        "loadedDataset = pd.read_csv(path + '/dataset_CEW.csv', header=0)\n",
        "print(f\"dataset.head(): \\n{loadedDataset.head()}\")\n",
        "print(f\"dataset.dtypes:\\n{loadedDataset.dtypes}\")\n",
        "loadedDataset.describe()\n"
      ]
    },
    {
      "cell_type": "code",
      "execution_count": null,
      "metadata": {
        "id": "P4mKWJyiACqS"
      },
      "outputs": [],
      "source": [
        "# exclusão de dados inúteis\n",
        "# loadedDataset.columns\n",
        "dataset = loadedDataset.drop(columns = ['Unnamed: 0', 'imageRelativePath',\n",
        "                                        'Eye'])\n",
        "dataset.head()"
      ]
    },
    {
      "cell_type": "markdown",
      "metadata": {
        "id": "oIFZOad0CzSb"
      },
      "source": [
        "## Divisão do Dados em Treinamento, Validação e Teste"
      ]
    },
    {
      "cell_type": "code",
      "execution_count": null,
      "metadata": {
        "id": "iJPDQINFDBRs"
      },
      "outputs": [],
      "source": [
        "# divisão do conjunto de dados\n",
        "dataset_num = dataset.shape[0]\n",
        "print(f\"dataset_num: {dataset_num}\")\n",
        "indexes = np.random.permutation(dataset_num)\n",
        "print(f\"Aleatorização dos indices: {indexes}\")\n",
        "# divisão dos dados de forma aleatória = razão da divisão: 6:2:2\n",
        "print(f\"\\nDivisão dos dados de forma aleatória - razão da divisão: 6:2:2\")\n",
        "train_indexes = indexes[:int(dataset_num * 0.6)]\n",
        "val_indexes = indexes[int(dataset_num * 0.6):int(dataset_num * 0.8)]\n",
        "test_indexes = indexes[int(dataset_num * 0.8):]\n",
        "# print(f\"train_indexes:{train_indexes}\")\n",
        "# print(f\"val_indexes:{val_indexes}\")\n",
        "# print(f\"test_indexes:{test_indexes}\")\n",
        "# recuperação dos dados de treinamento, de validação e de teste\n",
        "train_data = dataset.loc[train_indexes]\n",
        "val_data = dataset.loc[val_indexes]\n",
        "test_data = dataset.loc[test_indexes]\n",
        "print(f\"\\nDados de treinamento, de validação e de teste\")\n",
        "print(f\"train_data:{train_data.shape}\")\n",
        "print(f\"val_data:{val_data.shape}\")\n",
        "print(f\"test_data:{test_data.shape}\")"
      ]
    },
    {
      "cell_type": "markdown",
      "metadata": {
        "id": "-KKmorcy8tai"
      },
      "source": [
        "## Normalização"
      ]
    },
    {
      "cell_type": "code",
      "execution_count": null,
      "metadata": {
        "id": "VxIuaxcf8wtK"
      },
      "outputs": [],
      "source": [
        "# Normalização\n",
        "print(\"Normalização\") \n",
        "print(\"dado_normalizado=(dado-(média da população))/desvio padrão da população\")\n",
        "# dado_normalizado = (dado - média da população)/desvio padrão da população\n",
        "train_validation_data = pd.concat([train_data, val_data])\n",
        "mean = train_validation_data.mean()\n",
        "std = train_validation_data.std()\n",
        "train_data_norm = (train_data - mean)/std\n",
        "val_data_norm = (val_data - mean)/std\n",
        "\n",
        "X_train = np.array(train_data_norm.drop('State', axis='columns'))\n",
        "y_train = np.array(train_data['State'])\n",
        "X_val = np.array(val_data_norm.drop('State', axis='columns'))\n",
        "y_val = np.array(val_data['State'])\n",
        "\n",
        "# determinação do estado de um olho\n",
        "y_test = np.array(test_data['State'])\n",
        "#  normalizacão dos dados de teste\n",
        "test_data_norm = (test_data - mean)/std\n",
        "# salvar os dados de entrada no formato numpy\n",
        "X_test = np.array(test_data_norm.drop('State', axis='columns'))\n",
        "\n",
        "print(f\"X_train.shape: {X_train.shape}\")\n",
        "print(f\"y_train: {y_train}\")\n",
        "print(f\"y_train.shape: {y_train.shape}\")\n",
        "# print(f\"X_train: {X_train}\")\n",
        "print(f\"X_val.shape:   {X_val.shape}\")\n",
        "print(f\"y_val.shape:   {y_val.shape}\")\n",
        "print(f\"X_test.shape:  {X_test.shape}\")\n",
        "print(f\"y_test.shape:  {y_test.shape}\")"
      ]
    },
    {
      "cell_type": "markdown",
      "metadata": {
        "id": "yAiO7R-9Fa7G"
      },
      "source": [
        "# Construção e treino da RNA e Exibição os resultados de treinamento\n",
        " - Projetar uma RNA FCNN (modelo 1)\n",
        " - Determinar o Otimizador e a Função Perda;\n",
        " - Treinar o modelo 1.\n",
        "\n",
        "## Exibir os resultados de treinamento\n",
        " - Verificar a função de perda do treinamento e da validação;\n",
        " - Determinar o erro médio com a base de teste."
      ]
    },
    {
      "cell_type": "markdown",
      "metadata": {
        "id": "3GIXIIfmlFZz"
      },
      "source": [
        "## Criação do diretório para salvar o modelo e armazenar logs"
      ]
    },
    {
      "cell_type": "code",
      "execution_count": null,
      "metadata": {
        "id": "BcdomVusjwjC"
      },
      "outputs": [],
      "source": [
        "## model.\n",
        "## criação de um diretório para salvar o modelo\n",
        "## tem que ser um diretório novo (deletar o antigo)\n",
        "project_dir = \"proj-logs/\"\n",
        "model_dir = project_dir + \"models/\"\n",
        "# Check whether the specified path is an existing directory or not \n",
        "directoryExist = os.path.isdir(model_dir)\n",
        "if (directoryExist):\n",
        "  print(f\"O diretório {model_dir} já existe\")\n",
        "else:\n",
        "  print(f\"Criando o diretório {model_dir}\")\n",
        "  os.makedirs(model_dir) # para criar um pasta para salvar o modeLo"
      ]
    },
    {
      "cell_type": "markdown",
      "metadata": {
        "id": "o33Xl3px_CnH"
      },
      "source": [
        "## Definição do número máximo de épocas"
      ]
    },
    {
      "cell_type": "code",
      "execution_count": null,
      "metadata": {
        "id": "WrFTCput_Mbv"
      },
      "outputs": [],
      "source": [
        "maxEpochs = 60 \n",
        "# maxEpochs = 3"
      ]
    },
    {
      "cell_type": "markdown",
      "metadata": {
        "id": "WQ9cV533Mb8S"
      },
      "source": [
        "## Criação de Classe Callback para Matriz de Confusão e métricas adicionais (Recall, Precision e F1-Score)\n",
        "\n",
        "https://neptune.ai/blog/keras-metrics"
      ]
    },
    {
      "cell_type": "code",
      "execution_count": null,
      "metadata": {
        "id": "wBCS-lVfMLSA"
      },
      "outputs": [],
      "source": [
        "# def recallmy(y_true, y_pred):\n",
        "#     y_true = K.ones_like(y_true) \n",
        "#     true_positives = K.sum(K.round(K.clip(y_true * y_pred, 0, 1)))\n",
        "#     all_positives = K.sum(K.round(K.clip(y_true, 0, 1)))\n",
        "    \n",
        "#     recallmyv = true_positives / (all_positives + K.epsilon())\n",
        "#     return recallmyv\n",
        "\n",
        "# def precisionmy(y_true, y_pred):\n",
        "#     y_true = K.ones_like(y_true) \n",
        "#     true_positives = K.sum(K.round(K.clip(y_true * y_pred, 0, 1)))\n",
        "    \n",
        "#     predicted_positives = K.sum(K.round(K.clip(y_pred, 0, 1)))\n",
        "#     precisionmyv = true_positives / (predicted_positives + K.epsilon())\n",
        "#     return precisionmyv\n",
        "\n",
        "# def f1_score(y_true, y_pred):\n",
        "#     precision_m = precisionmy(y_true, y_pred)\n",
        "#     recall_m = recallmy(y_true, y_pred)\n",
        "#     return 2*((precision_m*recall_m)/(precision_m+recall_m+K.epsilon()))\n",
        "\n",
        "# from keras.callbacks import Callback\n",
        "# import matplotlib.pyplot as plt\n",
        "# import numpy as np\n",
        "# from scikitplot.metrics import plot_confusion_matrix, plot_roc\n",
        "\n",
        "# class PerformanceVisualizationCallback(Callback):\n",
        "#     def __init__(self, model, validation_data, image_dir):\n",
        "#         super().__init__()\n",
        "#         self.model = model\n",
        "#         self.validation_data = validation_data\n",
        "        \n",
        "#         os.makedirs(image_dir, exist_ok=True)\n",
        "#         self.image_dir = image_dir\n",
        "\n",
        "#     def on_epoch_end(self, epoch, logs={}):\n",
        "#         y_pred = np.asarray(self.model.predict(self.validation_data[0]))\n",
        "#         y_true = self.validation_data[1]             \n",
        "#         y_pred_class = np.argmax(y_pred, axis=1)\n",
        "\n",
        "#         # plot and save confusion matrix\n",
        "#         fig, ax = plt.subplots(figsize=(16,12))\n",
        "#         plot_confusion_matrix(y_true, y_pred_class, ax=ax)\n",
        "#         fig.savefig(os.path.join(self.image_dir,\n",
        "#                                  f'confusion_matrix_epoch_{epoch}'))\n",
        "\n",
        "#       #  # plot and save roc curve\n",
        "#       #   fig, ax = plt.subplots(figsize=(16,12))\n",
        "#       #   plot_roc(y_true, y_pred, ax=ax)\n",
        "#       #   fig.savefig(os.path.join(self.image_dir, f'roc_curve_epoch_{epoch}'))"
      ]
    },
    {
      "cell_type": "markdown",
      "metadata": {
        "id": "QxQ4Bg_BbbAB"
      },
      "source": [
        "## Definição dos plots de figuras"
      ]
    },
    {
      "cell_type": "code",
      "execution_count": null,
      "metadata": {
        "id": "GTtwscagbk3h"
      },
      "outputs": [],
      "source": [
        "def plotFigureTrainValidationVsEpoch(name, maxNumberOfEpochs, yTrain,\n",
        "                                     yValidation, xLabel, yLabel, legendLoc):\n",
        "  figPlot = plt.figure(name)\n",
        "  plt.plot(yTrain, label='Treinamento')\n",
        "  plt.plot(yValidation, label='Validação')\n",
        "  plt.grid()\n",
        "  plt.xlim(0, maxNumberOfEpochs)\n",
        "  plt.xticks(fontsize = 12)\n",
        "  plt.yticks(fontsize = 12)\n",
        "  plt.xlabel(xLabel, fontsize = 14)\n",
        "  plt.ylabel(yLabel, fontsize = 14)\n",
        "  plt.legend(loc = legendLoc)\n",
        "  plt.tight_layout()\n",
        "  if flagSaveFig:\n",
        "      plt.savefig(pathFig + name + '.jpg', bbox_inches = 'tight')\n",
        "\n",
        "def plotTrainValidationVsEpochFigures(history, model):\n",
        "  nameFigureLossEpoch      = \"4. Resultados e Discussões/\"\n",
        "  nameFigureAccuracyEpoch  = \"4. Resultados e Discussões/\"\n",
        "  nameFigurePrecisionEpoch = \"4. Resultados e Discussões/\"\n",
        "  nameFigureRecallEpoch    = \"4. Resultados e Discussões/\"\n",
        "\n",
        "  nameFigureLossEpoch      += \"Função Custo vs número de épocas \" + model\n",
        "  nameFigureAccuracyEpoch  += \"Accuracy vs número de épocas \" + model\n",
        "  nameFigurePrecisionEpoch += \"Precision vs número de épocas \" + model\n",
        "  nameFigureRecallEpoch    += \"Recall vs número de épocas \" + model\n",
        "\n",
        "  plotFigureTrainValidationVsEpoch(nameFigureLossEpoch,\n",
        "                                  maxEpochs, history.history['loss'],\n",
        "                                  history.history['val_loss'],\n",
        "                                  \"Numéro de Épocas\", 'Perda', \"upper right\")\n",
        "\n",
        "  figPlot_Model = plt.figure(model, figsize=(0.1,0.1))\n",
        "\n",
        "  plotFigureTrainValidationVsEpoch(nameFigureAccuracyEpoch,\n",
        "                                  maxEpochs, history.history['accuracy'],\n",
        "                                  history.history['val_accuracy'],\n",
        "                                  \"Numéro de Épocas\", 'Accuracy', \"lower right\")\n",
        "\n",
        "  plt.figure(\"Space after Accuracy\", figsize=(0.1,0.1))\n",
        "\n",
        "  # plotFigureTrainValidationVsEpoch(\"F1 score vs número de épocas Modelo 1\",\n",
        "  #                                  maxEpochs, history.history['f1_score'],\n",
        "  #                                  history.history['val_f1_score'],\n",
        "  #                                  \"Numéro de Épocas\", 'F1 score',\n",
        "  #                                  \"upper right\")\n",
        "\n",
        "  # plt.figure(\"Space after F1 Score\", figsize=(0.1,0.1))\n",
        "\n",
        "  plotFigureTrainValidationVsEpoch(nameFigurePrecisionEpoch,\n",
        "                                  maxEpochs, history.history['precision'],\n",
        "                                  history.history['val_precision'],\n",
        "                                  \"Numéro de Épocas\", 'Precision',\n",
        "                                  \"lower right\")\n",
        "\n",
        "  plt.figure(\"Space after Precision\", figsize=(0.1,0.1))\n",
        "\n",
        "  plotFigureTrainValidationVsEpoch(nameFigureRecallEpoch,\n",
        "                                  maxEpochs, history.history['recall'],\n",
        "                                  history.history['val_recall'],\n",
        "                                  \"Numéro de Épocas\", 'Recall', \"lower right\")\n",
        "\n",
        "  plt.figure(\"Space after Recall\", figsize=(0.1,0.1))"
      ]
    },
    {
      "cell_type": "markdown",
      "metadata": {
        "id": "qPuoYwKShyjr"
      },
      "source": [
        "## Modelo"
      ]
    },
    {
      "cell_type": "code",
      "execution_count": null,
      "metadata": {
        "id": "NjKffcdUFmf8"
      },
      "outputs": [],
      "source": [
        "# Criação de uma RNA FCNN - chamada de model-1: 1--> 3 camadas (CE, 2 CO e CS)\n",
        "# função de ativação ReLU nas camadas ocultas\n",
        "# a função de ativação da camada de saida não usarei função alguma de ativação\n",
        "\n",
        "# camadas densas são totalmente conectadas\n",
        "\n",
        "# criar o modelo sequencial usando a Keras\n",
        "# toda a RNA envolve camadas totalmente interconectadas\n",
        "model_1 = keras.Sequential(name='model-1')\n",
        "# a primeira camada da RNA tem 24 neurônios e o formato das entradas tem \n",
        "# IMG_NUMBER_PIXELS dados (batch_size = IMG_NUMBER_PIXELS):\n",
        "model_1.add(layers.Dense(24, activation='relu',\n",
        "                         input_shape=(IMG_NUMBER_PIXELS,)))\n",
        "# a segunda camada (24 neurônios):\n",
        "model_1.add(layers.Dense(24, activation='relu'))\n",
        "# a camada de saida (1 neurônio)\n",
        "model_1.add(layers.Dense(1, activation = 'sigmoid'))\n",
        "\n",
        "\n",
        "model_1.compile(keras.optimizers.Adam(0.001),\n",
        "              # loss = keras.losses.BinaryCrossentropy(),\n",
        "              loss=\"binary_crossentropy\",\n",
        "              metrics = ['accuracy',\n",
        "                         keras.metrics.Precision(name = 'precision'),\n",
        "                         keras.metrics.Recall(name = 'recall')])\n",
        "\n",
        "log_dir = os.path.join(project_dir, 'model-1')\n",
        "model_1_cbk = keras.callbacks.TensorBoard(log_dir = log_dir)\n",
        "model_1_mckp = keras.callbacks.ModelCheckpoint(model_dir + 'Best-model-1.h5',\n",
        "                                               monitor='val_accuracy',\n",
        "                                               save_best_only = True,\n",
        "                                               mode = 'max')\n",
        "\n",
        "# treinar o modelo\n",
        "history = model_1.fit(X_train, y_train, batch_size = IMG_SIZE,\n",
        "                      epochs = maxEpochs,\n",
        "                      validation_data = (X_val, y_val),\n",
        "                      callbacks = [model_1_cbk, model_1_mckp,])\n",
        "\n",
        "# exibir a arquitetura da RNA proposta\n",
        "model_1.summary()\n",
        "\n",
        "plotTrainValidationVsEpochFigures(history, \"Modelo 1\")\n",
        "\n",
        "# carga do modeLo\n",
        "model_1.load_weights(model_dir + '/Best-model-1.h5')\n",
        "# a predição do estado do olho\n",
        "y_pred = model_1.predict(X_test)\n",
        "# cálculo do erro percentuaL médio\n",
        "percentage_error = np.mean(np.abs(y_test - y_pred))/np.mean(y_test)*100\n",
        "\n",
        "printConfusionMatrix(y_true = y_test, y_pred = y_pred, model = \"Modelo 1\")\n",
        "printClassificationReport(y_true = y_test, y_pred = y_pred, model = \"Modelo 1\")\n",
        "\n",
        "print(np.mean(np.abs(y_test - y_pred)))\n",
        "print(np.mean(y_test))\n",
        "# exibição do erro percentuaL médio\n",
        "print(\"RNA Modelo 1 - Erro Percentual Médio para a base de teste: {:.2f}%\"\n",
        "  .format(percentage_error))"
      ]
    },
    {
      "cell_type": "code",
      "execution_count": null,
      "metadata": {
        "id": "RmioMOaSs0-X"
      },
      "outputs": [],
      "source": [
        "history.history.keys() # mostra informações salvas no histórico"
      ]
    },
    {
      "cell_type": "markdown",
      "metadata": {
        "id": "s9L1D9-m9oSQ"
      },
      "source": [
        "## Modelo 2: redução da complexidade do modelo"
      ]
    },
    {
      "cell_type": "code",
      "execution_count": null,
      "metadata": {
        "id": "Rc6oZFcMFEpT"
      },
      "outputs": [],
      "source": [
        "# Criação de uma RNA FCNN - chamada de model-1: 1--> 3 camadas (CE, 2 CO e CS)\n",
        "# função de ativação ReLU nas camadas ocultas\n",
        "# a função de ativação da camada de saida não usarei função alguma de ativação\n",
        "\n",
        "# camadas densas são totalmente conectadas\n",
        "\n",
        "# criar o modelo sequencial usando a Keras\n",
        "# toda a RNA envolve camadas totalmente interconectadas\n",
        "model_2 = keras.Sequential(name='model-2')\n",
        "# a primeira camada da RNA tem 6 neurônios e o formato das entradas tem \n",
        "# IMG_NUMBER_PIXELS dados (batch_size = IMG_NUMBER_PIXELS):\n",
        "model_2.add(layers.Dense(6, activation='relu',\n",
        "                         input_shape=(IMG_NUMBER_PIXELS,)))\n",
        "# a segunda camada (6 neurônios):\n",
        "model_2.add(layers.Dense(6, activation='relu'))\n",
        "# a camada de saida (1 neurônio)\n",
        "model_2.add(layers.Dense(1, activation = 'sigmoid'))\n",
        "\n",
        "\n",
        "model_2.compile(keras.optimizers.Adam(0.001),\n",
        "              # loss = keras.losses.BinaryCrossentropy(),\n",
        "              loss=\"binary_crossentropy\",\n",
        "              metrics = ['accuracy',\n",
        "                         keras.metrics.Precision(name = 'precision'),\n",
        "                         keras.metrics.Recall(name = 'recall')])\n",
        "\n",
        "log_dir = os.path.join(project_dir, 'model-2')\n",
        "model_2_cbk = keras.callbacks.TensorBoard(log_dir = log_dir)\n",
        "model_2_mckp = keras.callbacks.ModelCheckpoint(model_dir + 'Best-model-2.h5',\n",
        "                                               monitor='val_accuracy',\n",
        "                                               save_best_only = True,\n",
        "                                               mode = 'max')\n",
        "\n",
        "# treinar o modelo\n",
        "history2 = model_2.fit(X_train, y_train, batch_size = IMG_SIZE,\n",
        "                      epochs = maxEpochs,\n",
        "                      validation_data = (X_val, y_val),\n",
        "                      callbacks = [model_2_cbk, model_2_mckp])\n",
        "\n",
        "# exibir a arquitetura da RNA proposta\n",
        "model_2.summary()\n",
        "\n",
        "plotTrainValidationVsEpochFigures(history2, \"Modelo 2\")\n",
        "\n",
        "# carga do modeLo\n",
        "model_2.load_weights(model_dir + '/Best-model-2.h5')\n",
        "# a predição do estado do olho\n",
        "y_pred = model_2.predict(X_test)\n",
        "# cálculo do erro percentuaL médio\n",
        "percentage_error = np.mean(np.abs(y_test - y_pred))/np.mean(y_test)*100\n",
        "\n",
        "printConfusionMatrix(y_true = y_test, y_pred = y_pred, model = \"Modelo 2\")\n",
        "printClassificationReport(y_true = y_test, y_pred = y_pred, model = \"Modelo 2\")\n",
        "\n",
        "print(np.mean(np.abs(y_test - y_pred)))\n",
        "print(np.mean(y_test))\n",
        "# exibição do erro percentuaL médio\n",
        "print(\"RNA Modelo 2 - Erro Percentual Médio para a base de teste: {:.2f}%\"\n",
        "  .format(percentage_error))"
      ]
    },
    {
      "cell_type": "code",
      "execution_count": null,
      "metadata": {
        "id": "G9U1csxU7LVI"
      },
      "outputs": [],
      "source": [
        "history2.history.keys() # mostra informações salvas no histórico"
      ]
    },
    {
      "cell_type": "markdown",
      "metadata": {
        "id": "x8D95awfIVAK"
      },
      "source": [
        "## Modelo 3: método de regularização"
      ]
    },
    {
      "cell_type": "code",
      "execution_count": null,
      "metadata": {
        "id": "dtbwC3XmIa_m"
      },
      "outputs": [],
      "source": [
        "# Criação de uma RNA FCNN - chamada de model-3: 1--> 3 camadas (CE, 2 CO e CS)\n",
        "# função de ativação ReLU nas camadas ocultas\n",
        "# a função de ativação da camada de saida não usarei função alguma de ativação\n",
        "\n",
        "# camadas densas são totalmente conectadas\n",
        "\n",
        "# criar o modelo sequencial usando a Keras\n",
        "# toda a RNA envolve camadas totalmente interconectadas\n",
        "model_3 = keras.Sequential(name='model-3')\n",
        "# a primeira camada da RNA tem 24 neurônios com a adição do método de\n",
        "#  regularização L2 e o formato das entradas tem IMG_NUMBER_PIXELS dados \n",
        "# (batch_size = IMG_NUMBER_PIXELS):\n",
        "model_3.add(layers.Dense(24, activation='relu',\n",
        "                         kernel_regularizer = keras.regularizers.l2(0.01),\n",
        "                         input_shape=(IMG_NUMBER_PIXELS,)))\n",
        "# a segunda camada oculta tem 24 neurônios com a adição do método de\n",
        "#  regularização L2\n",
        "model_3.add(layers.Dense(24, activation='relu',\n",
        "                         kernel_regularizer = keras.regularizers.l2(0.01)))\n",
        "# a camada de saida (1 neurônio)\n",
        "model_3.add(layers.Dense(1, activation = 'sigmoid'))\n",
        "\n",
        "\n",
        "model_3.compile(keras.optimizers.Adam(0.001),\n",
        "              # loss = keras.losses.BinaryCrossentropy(),\n",
        "              loss=\"binary_crossentropy\",\n",
        "              metrics = ['accuracy',\n",
        "                         keras.metrics.Precision(name = 'precision'),\n",
        "                         keras.metrics.Recall(name = 'recall')])\n",
        "\n",
        "log_dir = os.path.join(project_dir, 'model-3')\n",
        "model_3_cbk = keras.callbacks.TensorBoard(log_dir = log_dir)\n",
        "model_3_mckp = keras.callbacks.ModelCheckpoint(model_dir + 'Best-model-3.h5',\n",
        "                                               monitor='val_accuracy',\n",
        "                                               save_best_only = True,\n",
        "                                               mode = 'max')\n",
        "\n",
        "# treinar o modelo\n",
        "history3 = model_3.fit(X_train, y_train, batch_size = IMG_SIZE,\n",
        "                      epochs = maxEpochs,\n",
        "                      validation_data = (X_val, y_val),\n",
        "                      callbacks = [model_3_cbk, model_3_mckp])\n",
        "\n",
        "# exibir a arquitetura da RNA proposta\n",
        "model_3.summary()\n",
        "\n",
        "plotTrainValidationVsEpochFigures(history3, \"Modelo 3\")\n",
        "\n",
        "# carga do modeLo\n",
        "model_3.load_weights(model_dir + '/Best-model-3.h5')\n",
        "# a predição do estado do olho\n",
        "y_pred = model_3.predict(X_test)\n",
        "# cálculo do erro percentuaL médio\n",
        "percentage_error = np.mean(np.abs(y_test - y_pred))/np.mean(y_test)*100\n",
        "\n",
        "printConfusionMatrix(y_true = y_test, y_pred = y_pred, model = \"Modelo 3\")\n",
        "printClassificationReport(y_true = y_test, y_pred = y_pred, model = \"Modelo 3\")\n",
        "\n",
        "print(np.mean(np.abs(y_test - y_pred)))\n",
        "print(np.mean(y_test))\n",
        "# exibição do erro percentuaL médio\n",
        "print(\"RNA Modelo 3 - Erro Percentual Médio para a base de teste: {:.2f}%\"\n",
        "  .format(percentage_error))"
      ]
    },
    {
      "cell_type": "markdown",
      "metadata": {
        "id": "c5sZ2i7vKQH8"
      },
      "source": [
        "## Modelo 4: método dropout"
      ]
    },
    {
      "cell_type": "code",
      "execution_count": null,
      "metadata": {
        "id": "OZYwUW3YKPkW"
      },
      "outputs": [],
      "source": [
        "# Criação de uma RNA FCNN - chamada de model-4: 1--> 3 camadas (CE, 2 CO e CS)\n",
        "# função de ativação ReLU nas camadas ocultas\n",
        "# a função de ativação da camada de saida não usarei função alguma de ativação\n",
        "\n",
        "# camadas densas são totalmente conectadas\n",
        "\n",
        "# criar o modelo sequencial usando a Keras\n",
        "# toda a RNA envolve camadas totalmente interconectadas\n",
        "model_4 = keras.Sequential(name='model-4')\n",
        "# a primeira camada da RNA tem 24 neurônios e o formato das entradas tem \n",
        "# IMG_NUMBER_PIXELS dados (batch_size = IMG_NUMBER_PIXELS):\n",
        "model_4.add(layers.Dense(24, activation='relu',\n",
        "                         input_shape=(IMG_NUMBER_PIXELS,)))\n",
        "# aleatoriamente selecione uma descarga de 20% dos neurônios\n",
        "model_4.add(layers.Dropout(0.20))\n",
        "# a segunda camada (24 neurônios):\n",
        "model_4.add(layers.Dense(24, activation='relu'))\n",
        "# aleatoriamente selecione uma descarga de 20% dos neurônios\n",
        "model_4.add(layers.Dropout(0.20))\n",
        "# a camada de saida (1 neurônio)\n",
        "model_4.add(layers.Dense(1, activation = 'sigmoid'))\n",
        "\n",
        "\n",
        "model_4.compile(keras.optimizers.Adam(0.001),\n",
        "              # loss = keras.losses.BinaryCrossentropy(),\n",
        "              loss=\"binary_crossentropy\",\n",
        "              metrics = ['accuracy',\n",
        "                         keras.metrics.Precision(name = 'precision'),\n",
        "                         keras.metrics.Recall(name = 'recall')])\n",
        "\n",
        "log_dir = os.path.join(project_dir, 'model-4')\n",
        "model_4_cbk = keras.callbacks.TensorBoard(log_dir = log_dir)\n",
        "model_4_mckp = keras.callbacks.ModelCheckpoint(model_dir + 'Best-model-4.h5',\n",
        "                                               monitor='val_accuracy',\n",
        "                                               save_best_only = True,\n",
        "                                               mode = 'max')\n",
        "\n",
        "# treinar o modelo\n",
        "history4 = model_4.fit(X_train, y_train, batch_size = IMG_SIZE,\n",
        "                      epochs = maxEpochs,\n",
        "                      validation_data = (X_val, y_val),\n",
        "                      callbacks = [model_4_cbk, model_4_mckp])\n",
        "\n",
        "# exibir a arquitetura da RNA proposta\n",
        "model_4.summary()\n",
        "\n",
        "plotTrainValidationVsEpochFigures(history4, \"Modelo 4\")\n",
        "\n",
        "# vamos agora prever o preço com os dados de testes\n",
        "# carga do modeLo\n",
        "model_4.load_weights(model_dir + '/Best-model-4.h5')\n",
        "# a predição do estado do olho\n",
        "y_pred = model_4.predict(X_test)\n",
        "# cálculo do erro percentuaL médio\n",
        "percentage_error = np.mean(np.abs(y_test - y_pred))/np.mean(y_test)*100\n",
        "\n",
        "printConfusionMatrix(y_true = y_test, y_pred = y_pred, model = \"Modelo 4\")\n",
        "printClassificationReport(y_true = y_test, y_pred = y_pred, model = \"Modelo 4\")\n",
        "\n",
        "print(np.mean(np.abs(y_test - y_pred)))\n",
        "print(np.mean(y_test))\n",
        "# exibição do erro percentuaL médio\n",
        "print(\"RNA Modelo 4 - Erro Percentual Médio para a base de teste: {:.2f}%\"\n",
        "  .format(percentage_error))"
      ]
    },
    {
      "cell_type": "markdown",
      "metadata": {
        "id": "o15lUFivVLkY"
      },
      "source": [
        "## Modelo 5: reduçãoda complexidade do modelo +  método dropout"
      ]
    },
    {
      "cell_type": "code",
      "execution_count": null,
      "metadata": {
        "id": "FbcojadzE0IF"
      },
      "outputs": [],
      "source": [
        "# Criação de uma RNA FCNN - chamada de model-5: 1--> 3 camadas (CE, 2 CO e CS)\n",
        "# função de ativação ReLU nas camadas ocultas\n",
        "# a função de ativação da camada de saida não usarei função alguma de ativação\n",
        "\n",
        "# camadas densas são totalmente conectadas\n",
        "\n",
        "# criar o modelo sequencial usando a Keras\n",
        "# toda a RNA envolve camadas totalmente interconectadas\n",
        "model_5 = keras.Sequential(name='model-5')\n",
        "# a primeira camada da RNA tem 10 neurônios e o formato das entradas tem \n",
        "# IMG_NUMBER_PIXELS dados (batch_size = IMG_NUMBER_PIXELS):\n",
        "model_5.add(layers.Dense(10, activation='relu',\n",
        "                         input_shape=(IMG_NUMBER_PIXELS,)))\n",
        "# aleatoriamente selecione uma descarga de 15% dos neurônios\n",
        "model_5.add(layers.Dropout(0.10))\n",
        "# a segunda camada (4 neurônios):\n",
        "model_5.add(layers.Dense(4, activation='relu'))\n",
        "# aleatoriamente selecione uma descarga de 15% dos neurônios\n",
        "model_5.add(layers.Dropout(0.10))\n",
        "# a camada de saida (1 neurônio)\n",
        "model_5.add(layers.Dense(1, activation = 'sigmoid'))\n",
        "\n",
        "\n",
        "model_5.compile(keras.optimizers.Adam(0.001),\n",
        "              # loss = keras.losses.BinaryCrossentropy(),\n",
        "              loss=\"binary_crossentropy\",\n",
        "              metrics = ['accuracy',\n",
        "                         keras.metrics.Precision(name = 'precision'),\n",
        "                         keras.metrics.Recall(name = 'recall')])\n",
        "\n",
        "log_dir = os.path.join(project_dir, 'model-5')\n",
        "model_5_cbk = keras.callbacks.TensorBoard(log_dir = log_dir)\n",
        "model_5_mckp = keras.callbacks.ModelCheckpoint(model_dir + 'Best-model-5.h5',\n",
        "                                               monitor='val_accuracy',\n",
        "                                               save_best_only = True,\n",
        "                                               mode = 'max')\n",
        "\n",
        "# treinar o modelo\n",
        "history5 = model_5.fit(X_train, y_train, batch_size = IMG_SIZE,\n",
        "                      epochs = maxEpochs,\n",
        "                      validation_data = (X_val, y_val),\n",
        "                      callbacks = [model_5_cbk, model_5_mckp])\n",
        "\n",
        "# exibir a arquitetura da RNA proposta\n",
        "model_5.summary()\n",
        "\n",
        "plotTrainValidationVsEpochFigures(history5, \"Modelo 5\")\n",
        "\n",
        "# vamos agora prever o preço com os dados de testes\n",
        "# carga do modeLo\n",
        "model_5.load_weights(model_dir + '/Best-model-5.h5')\n",
        "# a predição do estado do olho\n",
        "y_pred = model_5.predict(X_test)\n",
        "# cálculo do erro percentuaL médio\n",
        "percentage_error = np.mean(np.abs(y_test - y_pred))/np.mean(y_test)*100\n",
        "\n",
        "printConfusionMatrix(y_true = y_test, y_pred = y_pred, model = \"Modelo 5\")\n",
        "printClassificationReport(y_true = y_test, y_pred = y_pred, model = \"Modelo 5\")\n",
        "\n",
        "print(np.mean(np.abs(y_test - y_pred)))\n",
        "print(np.mean(y_test))\n",
        "# exibição do erro percentuaL médio\n",
        "print(\"RNA Modelo 5 - Erro Percentual Médio para a base de teste: {:.2f}%\"\n",
        "  .format(percentage_error))"
      ]
    },
    {
      "cell_type": "markdown",
      "metadata": {
        "id": "850ByxNiKYez"
      },
      "source": [
        "## Modelo 6:"
      ]
    },
    {
      "cell_type": "code",
      "execution_count": null,
      "metadata": {
        "id": "rY4DEFnEKcs6"
      },
      "outputs": [],
      "source": [
        "# Criação de uma RNA FCNN - chamada de model-6: 1--> 3 camadas (CE, 2 CO e CS)\n",
        "# função de ativação ReLU nas camadas ocultas\n",
        "# a função de ativação da camada de saida não usarei função alguma de ativação\n",
        "\n",
        "# camadas densas são totalmente conectadas\n",
        "\n",
        "# criar o modelo sequencial usando a Keras\n",
        "# toda a RNA envolve camadas totalmente interconectadas\n",
        "model_6 = keras.Sequential(name='model-6')\n",
        "# a primeira camada da RNA tem 10 neurônios e o formato das entradas tem \n",
        "# IMG_NUMBER_PIXELS dados (batch_size = IMG_NUMBER_PIXELS):\n",
        "model_6.add(layers.Dense(10, activation='relu',\n",
        "                         kernel_regularizer = keras.regularizers.l2(0.01),\n",
        "                         input_shape=(IMG_NUMBER_PIXELS,)))\n",
        "# aleatoriamente selecione uma descarga de 10% dos neurônios\n",
        "model_6.add(layers.Dropout(0.10))\n",
        "# a segunda camada (4 neurônios):\n",
        "model_6.add(layers.Dense(4, activation='relu',\n",
        "                         kernel_regularizer = keras.regularizers.l2(0.01)))\n",
        "# aleatoriamente selecione uma descarga de 10% dos neurônios\n",
        "model_6.add(layers.Dropout(0.10))\n",
        "# a camada de saida (1 neurônio)\n",
        "model_6.add(layers.Dense(1, activation = 'sigmoid'))\n",
        "\n",
        "\n",
        "model_6.compile(keras.optimizers.Adam(0.001),\n",
        "              # loss = keras.losses.BinaryCrossentropy(),\n",
        "              loss=\"binary_crossentropy\",\n",
        "              metrics = ['accuracy',\n",
        "                         keras.metrics.Precision(name = 'precision'),\n",
        "                         keras.metrics.Recall(name = 'recall')])\n",
        "\n",
        "log_dir = os.path.join(project_dir, 'model-6')\n",
        "model_6_cbk = keras.callbacks.TensorBoard(log_dir = log_dir)\n",
        "model_6_mckp = keras.callbacks.ModelCheckpoint(model_dir + 'Best-model-6.h5',\n",
        "                                               monitor='val_accuracy',\n",
        "                                               save_best_only = True,\n",
        "                                               mode = 'max')\n",
        "\n",
        "# treinar o modelo\n",
        "history6 = model_6.fit(X_train, y_train, batch_size = IMG_SIZE,\n",
        "                      epochs = maxEpochs,\n",
        "                      validation_data = (X_val, y_val),\n",
        "                      callbacks = [model_6_cbk, model_6_mckp])\n",
        "\n",
        "# exibir a arquitetura da RNA proposta\n",
        "model_6.summary()\n",
        "\n",
        "plotTrainValidationVsEpochFigures(history6, \"Modelo 6\")\n",
        "\n",
        "# vamos agora prever o preço com os dados de testes\n",
        "# carga do modeLo\n",
        "model_6.load_weights(model_dir + '/Best-model-6.h5')\n",
        "# a predição do estado do olho\n",
        "y_pred = model_6.predict(X_test)\n",
        "# cálculo do erro percentuaL médio\n",
        "percentage_error = np.mean(np.abs(y_test - y_pred))/np.mean(y_test)*100\n",
        "\n",
        "printConfusionMatrix(y_true = y_test, y_pred = y_pred, model = \"Modelo 6\")\n",
        "printClassificationReport(y_true = y_test, y_pred = y_pred, model = \"Modelo 6\")\n",
        "\n",
        "print(np.mean(np.abs(y_test - y_pred)))\n",
        "print(np.mean(y_test))\n",
        "# exibição do erro percentuaL médio\n",
        "print(\"RNA Modelo 6 - Erro Percentual Médio para a base de teste: {:.2f}%\"\n",
        "  .format(percentage_error))"
      ]
    },
    {
      "cell_type": "markdown",
      "metadata": {
        "id": "wpPMapX26ioG"
      },
      "source": [
        "# Construção e treino da SVN e Exibição dos resultados do treinamento"
      ]
    },
    {
      "cell_type": "code",
      "execution_count": null,
      "metadata": {
        "id": "OSf7_phE7qEW"
      },
      "outputs": [],
      "source": [
        "from sklearn.svm import SVC\n",
        "from sklearn.pipeline import make_pipeline\n",
        "from sklearn.model_selection import learning_curve\n",
        "from sklearn.model_selection import GridSearchCV # RandomizedSearchCV\n",
        "\n",
        "# criação de pipeline\n",
        "pipe_svc = make_pipeline(SVC(cache_size = 500, random_state=SEED))\n",
        "# Treinamento e predição\n",
        "pipe_svc.fit(X_train, y_train)\n",
        "y_pred = pipe_svc.predict(X_val)\n",
        "print('Accuracy: %.3f' %pipe_svc.score(X_val, y_val))"
      ]
    },
    {
      "cell_type": "markdown",
      "metadata": {
        "id": "IvEMYC1mzOLm"
      },
      "source": [
        "# Preparação dos dados para SVN"
      ]
    },
    {
      "cell_type": "markdown",
      "metadata": {
        "id": "CibdA9oq6cyp"
      },
      "source": [
        "## União dos dados de treinamento e de teste"
      ]
    },
    {
      "cell_type": "code",
      "execution_count": null,
      "metadata": {
        "id": "CEY9a3-_2ykr"
      },
      "outputs": [],
      "source": [
        "# União dos conjuntos de treinamento e teste, já\n",
        "X_train_and_val = np.concatenate((X_train, X_val), axis = 0)\n",
        "y_train_and_val = np.concatenate((y_train, y_val), axis = 0)"
      ]
    },
    {
      "cell_type": "markdown",
      "metadata": {
        "id": "CBs5as3Heqq1"
      },
      "source": [
        "## Curva de aprendizado"
      ]
    },
    {
      "cell_type": "code",
      "execution_count": null,
      "metadata": {
        "id": "YajpYdCu_HCP"
      },
      "outputs": [],
      "source": [
        "train_sizes, train_scores, test_scores = \\\n",
        "    learning_curve(estimator = pipe_svc, X = X_train_and_val,\n",
        "                   y = y_train_and_val,\n",
        "                   train_sizes = np.linspace(0.1, 1.0, 10), cv = 5,\n",
        "                   n_jobs = -1)\n",
        "train_mean = np.mean(train_scores, axis=1)\n",
        "train_std = np.std(train_scores, axis=1)\n",
        "test_mean = np.mean(test_scores, axis=1)\n",
        "test_std = np.std(test_scores, axis=1)\n",
        "plt.plot(train_sizes, train_mean, color='blue', marker='o', markersize=5,\n",
        "         label='Accuracy do Treinanento')\n",
        "plt.fill_between(train_sizes, train_mean + train_std, train_mean - train_std,\n",
        "                 alpha=0.15, color='blue')\n",
        "\n",
        "plt.plot(train_sizes, test_mean, color='green', linestyle = '--', marker='s',\n",
        "         markersize = 5, label = 'Accuracy do Teste')\n",
        "# não estaria incorreto chamar de Accuracy da Validação, do ponto de vista de\n",
        "# Instrumentação\n",
        "plt.fill_between(train_sizes, test_mean + test_std, test_mean - test_std,\n",
        "                 alpha = 0.15, color = 'green')\n",
        "plt.grid()\n",
        "plt.xlabel('Número de Dados')\n",
        "plt.ylabel('Accuracy')\n",
        "plt.legend(loc='lower right')\n",
        "plt.ylim([0.8, 1.03])\n",
        "plt.tight_layout()\n",
        "plt.show()"
      ]
    },
    {
      "cell_type": "markdown",
      "metadata": {
        "id": "S98ghgnRdrji"
      },
      "source": [
        "## GridSearchCV"
      ]
    },
    {
      "cell_type": "code",
      "execution_count": null,
      "metadata": {
        "id": "XSFLYkzFBfjW"
      },
      "outputs": [],
      "source": [
        "param_C_range = [0.01, 0.1, 1.0, 10.0, 100.0]\n",
        "param_gamma_range = [0.001, 0.01, 0.1, 1.0]\n",
        "param_grid = [\n",
        "              # {'svc__C': param_C_range, 'svc__kernel': ['linear']},\n",
        "              {'svc__C': param_C_range, 'svc__gamma': param_gamma_range,\n",
        "               'svc__kernel': ['rbf']}]\n",
        "gs = GridSearchCV(estimator = pipe_svc, param_grid = param_grid,\n",
        "                  scoring = 'accuracy', refit = True, cv = 5, n_jobs = -1)\n",
        "gs = gs.fit(X_train_and_val, y_train_and_val)\n",
        "print(gs.best_score_)\n",
        "print(gs.best_params_)\n",
        "clf = gs.best_estimator_\n",
        "print('Accuracy do Teste: %.3f' %clf.score(X_test, y_test))"
      ]
    },
    {
      "cell_type": "code",
      "execution_count": null,
      "metadata": {
        "id": "9WkUTbwn_KsV"
      },
      "outputs": [],
      "source": [
        "param_C_range = [0.01, 0.1, 1.0, 10.0, 100.0]\n",
        "# param_gamma_range = [0.001, 0.01, 0.1, 1.0]\n",
        "param_grid = [\n",
        "              {'svc__C': param_C_range, 'svc__kernel': ['linear']}]\n",
        "              # {'svc__C': param_C_range, 'svc__gamma': param_gamma_range,\n",
        "              #  'svc__kernel': ['rbf']}]\n",
        "gs = GridSearchCV(estimator = pipe_svc, param_grid = param_grid,\n",
        "                  scoring = 'accuracy', refit = True, cv = 5, n_jobs = -1)\n",
        "gs = gs.fit(X_train_and_val, y_train_and_val)\n",
        "print(gs.best_score_)\n",
        "print(gs.best_params_)\n",
        "clf = gs.best_estimator_\n",
        "print('Accuracy do Teste: %.3f' %clf.score(X_test, y_test))"
      ]
    },
    {
      "cell_type": "code",
      "execution_count": null,
      "metadata": {
        "id": "rdtRAycJ-9Y9"
      },
      "outputs": [],
      "source": [
        "param_C_range = [7, 7.5, 8.75, 10.0, 12.25, 12.5, 12.75, 13, 13.25, 13.5]\n",
        "param_gamma_range = [0.0005, 0.00075, 0.0008, 0.000825, 0.00085, 0.000875,\n",
        "                     0.0009, 0.001, 0.0011,\n",
        "                     0.001125, 0.001175, 0.0012, 0.00125, 0.0025, 0.005]\n",
        "param_grid = [\n",
        "              # {'svc__C': param_C_range, 'svc__kernel': ['linear']},\n",
        "              {'svc__C': param_C_range, 'svc__gamma': param_gamma_range,\n",
        "               'svc__kernel': ['rbf']}]\n",
        "gs = GridSearchCV(estimator = pipe_svc, param_grid = param_grid,\n",
        "                  scoring = 'accuracy', refit = True, cv = 5, n_jobs = -1)\n",
        "gs = gs.fit(X_train_and_val, y_train_and_val)\n",
        "print(gs.best_score_)\n",
        "print(gs.best_params_)\n",
        "clf = gs.best_estimator_\n",
        "print('Accuracy do Teste: %.3f' %clf.score(X_test, y_test))"
      ]
    },
    {
      "cell_type": "markdown",
      "metadata": {
        "id": "xj7ZApuKdfLq"
      },
      "source": [
        "## Curva de validação"
      ]
    },
    {
      "cell_type": "code",
      "execution_count": null,
      "metadata": {
        "id": "vmFTj7_9Xp61"
      },
      "outputs": [],
      "source": [
        "from sklearn.model_selection import validation_curve\n",
        "\n",
        "param_C_range = [7, 7.5, 8.75, 10.0, 11.25, 12.25, 12.5, 12.75, 13, 13.5]\n",
        "\n",
        "pipe_svc_val_C = make_pipeline(SVC(kernel='rbf', gamma = 0.001,\n",
        "                                   cache_size = 500, random_state=SEED))\n",
        "\n",
        "train_scores, test_scores = \\\n",
        "    validation_curve(estimator = pipe_svc_val_C, X = X_train_and_val,\n",
        "                     y = y_train_and_val,\n",
        "                     param_name = 'svc__C',\n",
        "                     param_range = param_C_range, cv = 5,\n",
        "                     n_jobs = -1)\n",
        "train_mean = np.mean(train_scores, axis=1)\n",
        "train_std = np.std(train_scores, axis=1)\n",
        "test_mean = np.mean(test_scores, axis=1)\n",
        "test_std = np.std(test_scores, axis=1)\n",
        "plt.plot(param_C_range, train_mean, color='blue', marker='o', markersize=5,\n",
        "         label='Accuracy do Treinanento')\n",
        "plt.fill_between(param_C_range, train_mean + train_std, train_mean - train_std,\n",
        "                 alpha=0.15, color='blue')\n",
        "\n",
        "plt.plot(param_C_range, test_mean, color='green', linestyle = '--', marker='s',\n",
        "         markersize = 5, label = 'Accuracy do Teste')\n",
        "# não estaria incorreto chamar de Accuracy da Validação, do ponto de vista de\n",
        "# Instrumentação\n",
        "plt.fill_between(param_C_range, test_mean + test_std, test_mean - test_std,\n",
        "                 alpha = 0.15, color = 'green')\n",
        "plt.grid()\n",
        "plt.xlabel('Parâmetro C')\n",
        "plt.ylabel('Accuracy')\n",
        "plt.legend(loc='lower right')\n",
        "plt.ylim([0.8, 1.03])\n",
        "plt.tight_layout()\n",
        "plt.show()"
      ]
    },
    {
      "cell_type": "code",
      "execution_count": null,
      "metadata": {
        "id": "y75R9cX-bNnr"
      },
      "outputs": [],
      "source": [
        "from sklearn.model_selection import validation_curve\n",
        "\n",
        "param_gamma_range = [0.0005, 0.00075, 0.0008, 0.000825, 0.00085, 0.000875,\n",
        "                     0.0009, 0.001, 0.0011,\n",
        "                     0.001125, 0.001175, 0.0012, 0.00125, 0.0025, 0.005]\n",
        "\n",
        "pipe_svc_val_gamma = make_pipeline(SVC(C=10.0, kernel='rbf',\n",
        "                                       cache_size = 500, random_state=SEED))\n",
        "\n",
        "train_scores, test_scores = \\\n",
        "    validation_curve(estimator = pipe_svc_val_gamma, X = X_train_and_val,\n",
        "                     y = y_train_and_val,\n",
        "                     param_name = 'svc__gamma',\n",
        "                     param_range = param_gamma_range, cv = 5,\n",
        "                     n_jobs = -1)\n",
        "train_mean = np.mean(train_scores, axis=1)\n",
        "train_std = np.std(train_scores, axis=1)\n",
        "test_mean = np.mean(test_scores, axis=1)\n",
        "test_std = np.std(test_scores, axis=1)\n",
        "plt.plot(param_gamma_range, train_mean, color='blue', marker='o', markersize=5,\n",
        "         label='Accuracy do Treinanento')\n",
        "plt.fill_between(param_gamma_range, train_mean + train_std, train_mean - train_std,\n",
        "                 alpha=0.15, color='blue')\n",
        "\n",
        "plt.plot(param_gamma_range, test_mean, color='green', linestyle = '--', marker='s',\n",
        "         markersize = 5, label = 'Accuracy do Teste')\n",
        "# não estaria incorreto chamar de Accuracy da Validação, do ponto de vista de\n",
        "# Instrumentação\n",
        "plt.fill_between(param_gamma_range, test_mean + test_std, test_mean - test_std,\n",
        "                 alpha = 0.15, color = 'green')\n",
        "plt.grid()\n",
        "plt.xlabel('Parâmetro Gamma')\n",
        "plt.ylabel('Accuracy')\n",
        "plt.legend(loc='lower right')\n",
        "plt.ylim([0.8, 1.03])\n",
        "plt.tight_layout()\n",
        "plt.show()"
      ]
    },
    {
      "cell_type": "markdown",
      "metadata": {
        "id": "SB21JJPTdkUM"
      },
      "source": [
        "# Construção e treino da SVM optimizada e Exibição dos resultados do treinamento"
      ]
    },
    {
      "cell_type": "code",
      "execution_count": null,
      "metadata": {
        "id": "Cz77omUadJTj"
      },
      "outputs": [],
      "source": [
        "# criação de pipeline\n",
        "pipe_svc_otimizada = make_pipeline(SVC(C=13.0, kernel='rbf', gamma = 0.0008,\n",
        "                                       cache_size = 500, random_state=SEED))\n",
        "# Treinamento\n",
        "pipe_svc_otimizada.fit(X_train_and_val, y_train_and_val,)\n",
        "# a predição do estado do olho\n",
        "y_pred = pipe_svc_otimizada.predict(X_test)\n",
        "# cálculo do erro percentuaL médio\n",
        "percentage_error = np.mean(np.abs(y_test - y_pred))/np.mean(y_test)*100\n",
        "\n",
        "printConfusionMatrix(y_true = y_test, y_pred = y_pred, model = \"Modelo SVN\")\n",
        "printClassificationReport(y_true = y_test, y_pred = y_pred,\n",
        "                          model = \"Modelo SVN\")\n",
        "\n",
        "print(np.mean(np.abs(y_test - y_pred)))\n",
        "print(np.mean(y_test))\n",
        "# exibição do erro percentuaL médio\n",
        "print(\"RNA Modelo SVN - Erro Percentual Médio para a base de teste: {:.2f}%\"\n",
        "  .format(percentage_error))"
      ]
    },
    {
      "cell_type": "markdown",
      "metadata": {
        "id": "Z1McfRoB8_Wr"
      },
      "source": [
        "# Seção"
      ]
    },
    {
      "cell_type": "code",
      "execution_count": null,
      "metadata": {
        "id": "lFF8t_Hl9IlD"
      },
      "outputs": [],
      "source": [
        ""
      ]
    },
    {
      "cell_type": "markdown",
      "metadata": {
        "id": "fxkqmyuj9Buq"
      },
      "source": [
        "# Versões utilizadas"
      ]
    },
    {
      "cell_type": "code",
      "execution_count": null,
      "metadata": {
        "id": "wv14pRmy9CkD"
      },
      "outputs": [],
      "source": [
        "!python --version\n",
        "import PIL\n",
        "import sklearn\n",
        "print('Matplotlib '     + matplotlib.__version__)\n",
        "print('Numpy '          + np.__version__        )\n",
        "print('Pandas '         + pd.__version__        )\n",
        "print('PIL    '         + PIL.__version__       )\n",
        "# print('Seaborn '        + sns.__version__       )\n",
        "print('Sklearn '        + sklearn.__version__   )\n",
        "# print('SciPy '          + scipy.__version__     )\n",
        "# print('scikitplot '     + scikitplot.__version__)\n",
        "print(\"TensorFlow version: \", tf.__version__)\n",
        "\n",
        "# print('StatsModels '    + sm.__version__        )\n",
        "#!pip freeze"
      ]
    }
  ],
  "metadata": {
    "colab": {
      "collapsed_sections": [
        "d-HSRhaVOzPL",
        "E30PPOYg3-Hi",
        "WQ9cV533Mb8S",
        "u7RKzGcnX0UI"
      ],
      "name": "Bases de Dados Desbalanceadas.ipynb",
      "provenance": [],
      "toc_visible": true,
      "authorship_tag": "ABX9TyMeoufiptojFyl/BJ1532dW",
      "include_colab_link": true
    },
    "kernelspec": {
      "display_name": "Python 3",
      "name": "python3"
    },
    "language_info": {
      "name": "python"
    }
  },
  "nbformat": 4,
  "nbformat_minor": 0
}